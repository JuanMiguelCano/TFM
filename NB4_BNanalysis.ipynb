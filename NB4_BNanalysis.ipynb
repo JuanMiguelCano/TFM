{
 "cells": [
  {
   "cell_type": "code",
   "execution_count": 186,
   "metadata": {
    "vscode": {
     "languageId": "r"
    }
   },
   "outputs": [],
   "source": [
    "# We will use the following libraries in this script\n",
    "library(bnlearn)\n",
    "library(Rgraphviz)\n",
    "library(gRain)\n",
    "library(dplyr) # to use %>%"
   ]
  },
  {
   "cell_type": "code",
   "execution_count": 188,
   "metadata": {
    "vscode": {
     "languageId": "r"
    }
   },
   "outputs": [],
   "source": [
    "# Function to select predictors from a CSV file (DATA.csv)\n",
    "select_predictors <- function(csv_file, predictor_prefixes, target){\n",
    "  data <- read.csv(csv_file, colClasses = \"character\") %>%\n",
    "    select(-ID) %>%\n",
    "    mutate(across(everything(), as.factor))\n",
    "  variables <- names(data)[grepl(paste(predictor_prefixes, collapse = \"|\"), names(data))]\n",
    "  variables <- c(variables, target)\n",
    "  return(data[, variables, drop = FALSE])\n",
    "}\n",
    "\n",
    "# Function to create the structure of the Bayesian Network using hc\n",
    "create_structure <- function(data){\n",
    "  model <- hc(data)\n",
    "  return(model)\n",
    "}\n",
    "\n",
    "# We avoid cycles in the final network\n",
    "remove_cycles <- function(arcs){\n",
    "  return(unique(arcs))\n",
    "}\n",
    "\n",
    "# Function to draw the final DAG and show the strength of the arcs\n",
    "draw_final_dag <- function(arcs, nodes, mmarkov, target, data, size){\n",
    "  arcs <- remove_cycles(arcs)\n",
    "  dag <- empty.graph(nodes)\n",
    "  arcs(dag) <- arcs\n",
    "  print(modelstring(dag))\n",
    "  g <- graphviz.plot(dag, render = FALSE)\n",
    "  attrs <- list(node = list(shape = \"ellipse\", fontsize = 30, fillcolor = \"lightgrey\", style = \"filled\"),\n",
    "                edge = list(arrowsize = 1))\n",
    "  graph::graphRenderInfo(g) <- attrs\n",
    "  colors <- color_nodes(nodes, mmarkov, target)\n",
    "  graph::nodeRenderInfo(g)$fill <- colors\n",
    "  graph::nodeRenderInfo(g)$col <- \"black\"\n",
    "  graph::nodeRenderInfo(g)$textCol <- \"black\"\n",
    "  graph::nodeRenderInfo(g)$fontsize <- 30\n",
    "  variables <- intersect(names(data), nodes)\n",
    "  data <- data[, variables, drop = FALSE]\n",
    "  arc_strengths <- suppressWarnings(arc.strength(dag, data = data, criterion = \"bic\"))\n",
    "  arc_strengths <- arc_strengths[order(-arc_strengths$strength), ]\n",
    "  arc_strengths$abs_strength <- abs(as.numeric(sub(\".*?(-?\\\\d+).*\", \"\\\\1\", as.character(arc_strengths$strength))))\n",
    "  arc_strengths$width <- cut(arc_strengths$abs_strength, breaks = c(-Inf, 10, 20, 50, 100, 200, Inf), labels = c(1, 2, 3, 4, 5, 6))\n",
    "  edge_weights <- setNames(as.numeric(arc_strengths$width), paste(arc_strengths$from, arc_strengths$to, sep = \"~\"))\n",
    "  edgeRenderInfo(g)$lwd <- edge_weights\n",
    "  edgeRenderInfo(g)$col <- \"black\"\n",
    "  print(\"Ordered by strength:\")\n",
    "  print(arc_strengths[, c(\"from\", \"to\", \"strength\", \"abs_strength\", \"width\")])\n",
    "  Rgraphviz::renderGraph(g)\n",
    "}\n",
    "\n",
    "# Function to color the nodes\n",
    "color_nodes <- function(nodes, mmarkov, target) {\n",
    "  sapply(nodes, function(node) {\n",
    "    if (node %in% mmarkov) {\n",
    "      \"yellow1\"\n",
    "    } else if (node == target) {\n",
    "      \"yellow2\"\n",
    "    } else if (startsWith(node, \"MH\")) {\n",
    "      \"lightblue1\"\n",
    "    } else if (startsWith(node, \"TRT\")) {\n",
    "      \"lightsalmon1\"\n",
    "    } else if (startsWith(node, \"SOC\")) {\n",
    "      \"olivedrab1\"\n",
    "    } else {\n",
    "      \"white\"\n",
    "    }\n",
    "  })\n",
    "}\n",
    "\n",
    "# Function to bootstrap the DAG using 100 iterations (100 by default)\n",
    "create_dag_bootstrap <- function(file, target, predictor_prefixes, n_iter = 100, seed = 1){\n",
    "  set.seed(seed)\n",
    "  data <- select_predictors(file, predictor_prefixes, target)\n",
    "  results <- list()\n",
    "  for (i in 1:n_iter) {\n",
    "    sample <- data[sample(nrow(data), replace = TRUE), ]\n",
    "    structure <- create_structure(sample)\n",
    "    arcs <- arcs(structure)\n",
    "    nodes <- nodes(structure)\n",
    "    mmarkov <- mb(structure, node = target)\n",
    "    results[[i]] <- list(structure = structure, arcs = arcs, nodes = nodes, mmarkov = mmarkov)\n",
    "  }\n",
    "  return(results)\n",
    "}\n",
    "\n",
    "# Function to calculate the frequency of the arcs\n",
    "calculate_arc_frequency <- function(results){\n",
    "  arcs_list <- lapply(results, function(res) {\n",
    "    arcs <- res$arcs\n",
    "    data.frame(from = arcs[, 1], to = arcs[, 2])\n",
    "  })\n",
    "  combined_arcs <- do.call(rbind, arcs_list)\n",
    "  arcs_table <- as.data.frame(table(paste(combined_arcs$from, combined_arcs$to, sep = \"~\")))\n",
    "  arcs_table <- arcs_table[order(-arcs_table$Freq), ]\n",
    "  separated_arcs <- as.data.frame(do.call(rbind, strsplit(as.character(arcs_table$Var1), \"~\")))\n",
    "  colnames(separated_arcs) <- c(\"from\", \"to\")\n",
    "  arcs_table <- cbind(separated_arcs, arcs_table$Freq)\n",
    "  colnames(arcs_table) <- c(\"from\", \"to\", \"Freq\")\n",
    "  return(arcs_table)\n",
    "}\n",
    "\n",
    "# Function to check if an arc exists in the graph, we will use it to avoid some arcs (MH_AGE -> XX_XXXX ; MH_SEX -> XX_XXXX)\n",
    "arc_exists <- function(graph, from, to) {\n",
    "  present_arc <- arcs(graph)\n",
    "  return(any(present_arc[, 1] == from & present_arc[, 2] == to) ||\n",
    "         any(present_arc[, 1] == to & present_arc[, 2] == from))\n",
    "}\n",
    "\n",
    "# Function to create the final network\n",
    "create_final_network <- function(arc_frequency, threshold = 50) {\n",
    "  filtered_arcs <- arc_frequency %>% filter(Freq >= threshold)\n",
    "  nodes <- unique(c(filtered_arcs$from, filtered_arcs$to))\n",
    "  final_network <- empty.graph(nodes)\n",
    "  for (i in 1:nrow(filtered_arcs)) {\n",
    "    from <- as.character(filtered_arcs$from[i])\n",
    "    to <- as.character(filtered_arcs$to[i])\n",
    "    if (!is.null(from) && !is.null(to) && !arc_exists(final_network, from, to)) {\n",
    "      if (to != \"MH_AGE\" && to != \"MH_SEX\") {\n",
    "        try(final_network <- set.arc(final_network, from, to), silent = TRUE)\n",
    "      }\n",
    "    }\n",
    "  }\n",
    "  return(final_network)\n",
    "}\n",
    "\n",
    "# Function to calculate the number of parameters in the network\n",
    "calculate_number_of_parameters <- function(bn_object) {\n",
    "  params <- nparams(bn_object)\n",
    "  return(params)\n",
    "}\n",
    "\n",
    "# Function to calculate the probabilities\n",
    "calculate_probabilities <- function(bn_fitted, variable) {\n",
    "  cpt <- bn_fitted[[variable]]\n",
    "  return(cpt)\n",
    "}\n",
    "\n",
    "# Function to compare two variables with a barplot and a chi-square test\n",
    "compare_variables <- function(file, variable1, variable2){\n",
    "  data <- read.csv(file, colClasses = \"character\") %>%\n",
    "           select(-ID) %>%\n",
    "           mutate(across(everything(), as.factor)) %>%\n",
    "           na.omit()\n",
    "  test_result <- ci.test(variable1, variable2, data = data)\n",
    "  print(test_result)\n",
    "  table <- table(data[, variable1], data[, variable2])\n",
    "  barplot(table, beside = TRUE, legend = TRUE, col = rainbow(nrow(table)), \n",
    "          xlab = variable2, ylab = \"Frequency\", main = paste(\"Distribution of\", variable1, \"over\", variable2))\n",
    "}\n",
    "\n",
    "# Function to create a bar chart for a specific variable using bn.fit.barchart\n",
    "create_barchart <- function(bn_fitted, variable) {\n",
    "  bn.fit.barchart(bn_fitted[[variable]])\n",
    "}\n",
    "\n",
    "# MAIN FUNCTION\n",
    "perform_analysis <- function(file, target, predictor_prefixes, n_iter = 100, threshold = 40, seed = 1){\n",
    "  bootstrap_results <- create_dag_bootstrap(file, target, predictor_prefixes, n_iter, seed)\n",
    "  arc_frequency <- calculate_arc_frequency(bootstrap_results)\n",
    "  print(arc_frequency)\n",
    "  BNet <- create_final_network(arc_frequency, threshold)\n",
    "  print(arcs(BNet))\n",
    "  network_variables <- nodes(BNet)\n",
    "  final_data <- select_predictors(file, predictor_prefixes, target)[, network_variables, drop = FALSE]\n",
    "  bn_fitted <- bn.fit(BNet, data = final_data, method = \"bayes\")\n",
    "  number_of_parameters <- calculate_number_of_parameters(bn_fitted)\n",
    "  print(number_of_parameters)\n",
    "  draw_final_dag(arcs(BNet), nodes(BNet), mb(BNet, target), target, final_data, size = 15)\n",
    "  grain_network <- as.grain(bn_fitted) # Convert to gRain network for queries\n",
    "  junction <- compile(grain_network)\n",
    "  \n",
    "  # Create bar chart for the target variable using bn.fit.barchart\n",
    "  create_barchart(bn_fitted, target)\n",
    "  \n",
    "  return(list(BNet = BNet, bn_fitted = bn_fitted, final_data = final_data, junction = junction))\n",
    "}\n"
   ]
  },
  {
   "cell_type": "code",
   "execution_count": 189,
   "metadata": {
    "vscode": {
     "languageId": "r"
    }
   },
   "outputs": [
    {
     "name": "stdout",
     "output_type": "stream",
     "text": [
      "             from            to Freq\n",
      "1     SOC_ACT_EMP SOC_SALT_DIET  196\n",
      "2     SOC_LIV_ALN      SOC_SUPP  196\n",
      "3    SOC_WOR_TYPE       SOC_RES  195\n",
      "4     SOC_ACT_EMP    SOC_MOB_PH  193\n",
      "5     SOC_ACT_EMP       SOC_ALC  192\n",
      "6     SOC_ACT_EMP        SOC_EX  192\n",
      "7     SOC_ACT_EMP   SOC_SOC_MED  191\n",
      "8     SOC_SOC_MED    SOC_MOB_PH  191\n",
      "9         SOC_EDU  SOC_WOR_TYPE  184\n",
      "10     SOC_MAR_ST   SOC_LIV_ALN  154\n",
      "11     SOC_MOB_PH       SOC_EDU  148\n",
      "12  SOC_SALT_DIET       SOC_ALC  144\n",
      "13     SOC_MOB_PH       CVdeath  118\n",
      "14        SOC_EDU    SOC_MAR_ST  116\n",
      "15     SOC_MAR_ST        SOC_EX  113\n",
      "16    SOC_SOC_MED       SOC_EDU  112\n",
      "17     SOC_MOB_PH  SOC_WOR_TYPE  105\n",
      "18  SOC_SALT_DIET     SOC_A_TRT   97\n",
      "19    SOC_ACT_EMP       CVdeath   79\n",
      "20        CVdeath       SOC_RES   74\n",
      "21     SOC_MOB_PH   SOC_LIV_ALN   72\n",
      "22    SOC_ACT_EMP       SOC_EDU   71\n",
      "23    SOC_ACT_EMP     SOC_A_TRT   59\n",
      "24    SOC_SOC_MED  SOC_WOR_TYPE   58\n",
      "25      SOC_A_TRT SOC_SALT_DIET   57\n",
      "26    SOC_ACT_EMP  SOC_WOR_TYPE   47\n",
      "27    SOC_SOC_MED      SOC_SUPP   47\n",
      "28    SOC_LIV_ALN    SOC_MAR_ST   46\n",
      "29  SOC_SALT_DIET   SOC_SOC_MED   46\n",
      "30    SOC_ACT_EMP       SOC_RES   42\n",
      "31   SOC_WOR_TYPE        SOC_EX   40\n",
      "32        SOC_ALC    SOC_MAR_ST   39\n",
      "33        CVdeath     SOC_A_TRT   33\n",
      "34         SOC_EX    SOC_MAR_ST   33\n",
      "35   SOC_WOR_TYPE    SOC_MAR_ST   32\n",
      "36        SOC_ALC      SOC_SUPP   24\n",
      "37        SOC_EDU   SOC_ACT_EMP   24\n",
      "38        SOC_ALC SOC_SALT_DIET   23\n",
      "39         SOC_EX     SOC_A_TRT   23\n",
      "40        SOC_EDU   SOC_SOC_MED   22\n",
      "41        CVdeath    SOC_MAR_ST   21\n",
      "42     SOC_MAR_ST       SOC_EDU   21\n",
      "43    SOC_ACT_EMP   SOC_LIV_ALN   19\n",
      "44     SOC_MOB_PH     SOC_A_TRT   18\n",
      "45   SOC_WOR_TYPE       SOC_EDU   16\n",
      "46        SOC_EDU    SOC_MOB_PH   14\n",
      "47     SOC_MAR_ST      SOC_SUPP   14\n",
      "48   SOC_WOR_TYPE   SOC_ACT_EMP   12\n",
      "49   SOC_WOR_TYPE       SOC_ALC   12\n",
      "50         SOC_EX       CVdeath   11\n",
      "51    SOC_SOC_MED SOC_SALT_DIET   11\n",
      "52      SOC_A_TRT       CVdeath   10\n",
      "53       SOC_SUPP   SOC_SOC_MED   10\n",
      "54        SOC_EDU       CVdeath    9\n",
      "55    SOC_LIV_ALN SOC_SALT_DIET    9\n",
      "56    SOC_LIV_ALN  SOC_WOR_TYPE    9\n",
      "57     SOC_MOB_PH   SOC_SOC_MED    9\n",
      "58    SOC_SOC_MED   SOC_ACT_EMP    9\n",
      "59   SOC_WOR_TYPE    SOC_MOB_PH    9\n",
      "60        SOC_ALC   SOC_SOC_MED    8\n",
      "61     SOC_MAR_ST       CVdeath    8\n",
      "62    SOC_SOC_MED       CVdeath    8\n",
      "63         SOC_EX   SOC_ACT_EMP    7\n",
      "64       SOC_SUPP       SOC_ALC    7\n",
      "65        SOC_EDU   SOC_LIV_ALN    6\n",
      "66    SOC_LIV_ALN        SOC_EX    6\n",
      "67     SOC_MOB_PH   SOC_ACT_EMP    6\n",
      "68    SOC_SOC_MED       SOC_ALC    6\n",
      "69    SOC_SOC_MED       SOC_RES    6\n",
      "70    SOC_ACT_EMP    SOC_MAR_ST    5\n",
      "71        SOC_EDU       SOC_ALC    5\n",
      "72     SOC_MAR_ST  SOC_WOR_TYPE    5\n",
      "73     SOC_MOB_PH       SOC_RES    5\n",
      "74        SOC_RES  SOC_WOR_TYPE    5\n",
      "75  SOC_SALT_DIET       CVdeath    5\n",
      "76    SOC_SOC_MED        SOC_EX    5\n",
      "77   SOC_WOR_TYPE   SOC_SOC_MED    5\n",
      "78         SOC_EX SOC_SALT_DIET    4\n",
      "79         SOC_EX   SOC_SOC_MED    4\n",
      "80     SOC_MAR_ST       SOC_ALC    4\n",
      "81       SOC_SUPP   SOC_LIV_ALN    4\n",
      "82        CVdeath   SOC_ACT_EMP    3\n",
      "83        SOC_ALC   SOC_ACT_EMP    3\n",
      "84    SOC_LIV_ALN   SOC_ACT_EMP    3\n",
      "85        SOC_RES     SOC_A_TRT    3\n",
      "86   SOC_WOR_TYPE      SOC_SUPP    3\n",
      "87        CVdeath       SOC_EDU    2\n",
      "88      SOC_A_TRT  SOC_WOR_TYPE    2\n",
      "89    SOC_ACT_EMP      SOC_SUPP    2\n",
      "90        SOC_ALC     SOC_A_TRT    2\n",
      "91        SOC_ALC       SOC_EDU    2\n",
      "92        SOC_ALC   SOC_LIV_ALN    2\n",
      "93        SOC_EDU        SOC_EX    2\n",
      "94    SOC_LIV_ALN       CVdeath    2\n",
      "95     SOC_MOB_PH       SOC_ALC    2\n",
      "96     SOC_MOB_PH    SOC_MAR_ST    2\n",
      "97        SOC_RES        SOC_EX    2\n",
      "98  SOC_SALT_DIET   SOC_ACT_EMP    2\n",
      "99  SOC_SALT_DIET        SOC_EX    2\n",
      "100 SOC_SALT_DIET   SOC_LIV_ALN    2\n",
      "101 SOC_SALT_DIET      SOC_SUPP    2\n",
      "102   SOC_SOC_MED     SOC_A_TRT    2\n",
      "103      SOC_SUPP       CVdeath    2\n",
      "104      SOC_SUPP     SOC_A_TRT    2\n",
      "105      SOC_SUPP       SOC_RES    2\n",
      "106  SOC_WOR_TYPE     SOC_A_TRT    2\n",
      "107  SOC_WOR_TYPE   SOC_LIV_ALN    2\n",
      "108       CVdeath        SOC_EX    1\n",
      "109       CVdeath SOC_SALT_DIET    1\n",
      "110     SOC_A_TRT        SOC_EX    1\n",
      "111     SOC_A_TRT   SOC_LIV_ALN    1\n",
      "112       SOC_ALC        SOC_EX    1\n",
      "113       SOC_EDU SOC_SALT_DIET    1\n",
      "114        SOC_EX       SOC_ALC    1\n",
      "115        SOC_EX       SOC_RES    1\n",
      "116   SOC_LIV_ALN       SOC_ALC    1\n",
      "117   SOC_LIV_ALN       SOC_EDU    1\n",
      "118   SOC_LIV_ALN    SOC_MOB_PH    1\n",
      "119   SOC_LIV_ALN       SOC_RES    1\n",
      "120    SOC_MAR_ST     SOC_A_TRT    1\n",
      "121    SOC_MOB_PH        SOC_EX    1\n",
      "122    SOC_MOB_PH SOC_SALT_DIET    1\n",
      "123       SOC_RES      SOC_SUPP    1\n",
      "124   SOC_SOC_MED   SOC_LIV_ALN    1\n",
      "125   SOC_SOC_MED    SOC_MAR_ST    1\n",
      "126      SOC_SUPP   SOC_ACT_EMP    1\n",
      "      from            to             \n",
      " [1,] \"SOC_ACT_EMP\"   \"SOC_SALT_DIET\"\n",
      " [2,] \"SOC_LIV_ALN\"   \"SOC_SUPP\"     \n",
      " [3,] \"SOC_WOR_TYPE\"  \"SOC_RES\"      \n",
      " [4,] \"SOC_ACT_EMP\"   \"SOC_MOB_PH\"   \n",
      " [5,] \"SOC_ACT_EMP\"   \"SOC_ALC\"      \n",
      " [6,] \"SOC_ACT_EMP\"   \"SOC_EX\"       \n",
      " [7,] \"SOC_ACT_EMP\"   \"SOC_SOC_MED\"  \n",
      " [8,] \"SOC_SOC_MED\"   \"SOC_MOB_PH\"   \n",
      " [9,] \"SOC_EDU\"       \"SOC_WOR_TYPE\" \n",
      "[10,] \"SOC_MAR_ST\"    \"SOC_LIV_ALN\"  \n",
      "[11,] \"SOC_MOB_PH\"    \"SOC_EDU\"      \n",
      "[12,] \"SOC_SALT_DIET\" \"SOC_ALC\"      \n",
      "[13,] \"SOC_MOB_PH\"    \"CVdeath\"      \n",
      "[14,] \"SOC_EDU\"       \"SOC_MAR_ST\"   \n",
      "[15,] \"SOC_MAR_ST\"    \"SOC_EX\"       \n",
      "[16,] \"SOC_SOC_MED\"   \"SOC_EDU\"      \n",
      "[17,] \"SOC_MOB_PH\"    \"SOC_WOR_TYPE\" \n",
      "[1] 39\n",
      "[1] \"[SOC_ACT_EMP][SOC_SOC_MED|SOC_ACT_EMP][SOC_SALT_DIET|SOC_ACT_EMP][SOC_MOB_PH|SOC_ACT_EMP:SOC_SOC_MED][SOC_ALC|SOC_ACT_EMP:SOC_SALT_DIET][SOC_EDU|SOC_SOC_MED:SOC_MOB_PH][CVdeath|SOC_MOB_PH][SOC_WOR_TYPE|SOC_EDU:SOC_MOB_PH][SOC_MAR_ST|SOC_EDU][SOC_LIV_ALN|SOC_MAR_ST][SOC_RES|SOC_WOR_TYPE][SOC_EX|SOC_ACT_EMP:SOC_MAR_ST][SOC_SUPP|SOC_LIV_ALN]\"\n",
      "[1] \"Ordered by strength:\"\n",
      "            from            to    strength abs_strength width\n",
      "15    SOC_MAR_ST        SOC_EX   -3.093967            3     1\n",
      "13    SOC_MOB_PH       CVdeath   -5.075906            5     1\n",
      "12 SOC_SALT_DIET       SOC_ALC   -5.580230            5     1\n",
      "14       SOC_EDU    SOC_MAR_ST   -6.498861            6     1\n",
      "16   SOC_SOC_MED       SOC_EDU   -8.800671            8     1\n",
      "17    SOC_MOB_PH  SOC_WOR_TYPE  -10.587475           10     1\n",
      "11    SOC_MOB_PH       SOC_EDU  -12.681754           12     2\n",
      "5    SOC_ACT_EMP       SOC_ALC  -17.617042           17     2\n",
      "4    SOC_ACT_EMP    SOC_MOB_PH  -19.128373           19     2\n",
      "6    SOC_ACT_EMP        SOC_EX  -20.946302           20     2\n",
      "3   SOC_WOR_TYPE       SOC_RES  -21.168044           21     3\n",
      "9        SOC_EDU  SOC_WOR_TYPE  -27.364669           27     3\n",
      "1    SOC_ACT_EMP SOC_SALT_DIET  -30.168010           30     3\n",
      "8    SOC_SOC_MED    SOC_MOB_PH  -44.420897           44     3\n",
      "2    SOC_LIV_ALN      SOC_SUPP  -79.797254           79     4\n",
      "7    SOC_ACT_EMP   SOC_SOC_MED  -98.318178           98     4\n",
      "10    SOC_MAR_ST   SOC_LIV_ALN -405.001224          405     6\n"
     ]
    },
    {
     "data": {
      "image/png": "[encoded data removed]",
      "text/plain": [
       "plot without title"
      ]
     },
     "metadata": {
      "image/png": {
       "height": 420,
       "width": 420
      }
     },
     "output_type": "display_data"
    },
    {
     "data": {
      "image/png": "[encoded data removed]",
      "text/plain": [
       "plot without title"
      ]
     },
     "metadata": {
      "image/png": {
       "height": 420,
       "width": 420
      }
     },
     "output_type": "display_data"
    }
   ],
   "source": [
    "file <- \"DATA.csv\"\n",
    "target <- \"CVdeath\"\n",
    "predictor_prefixes <- c(\"SOC\")\n",
    "n_iter <- 200\n",
    "threshold <- 100\n",
    "seed <- 1\n",
    "# Execute the analysis\n",
    "result <- perform_analysis(file, target, predictor_prefixes, n_iter, threshold, seed)"
   ]
  },
  {
   "cell_type": "code",
   "execution_count": 95,
   "metadata": {
    "vscode": {
     "languageId": "r"
    }
   },
   "outputs": [
    {
     "name": "stdout",
     "output_type": "stream",
     "text": [
      "\n",
      "\tMutual Information (disc.)\n",
      "\n",
      "data:  SOC_MOB_PH ~ CVdeath  \n",
      "mi = 17.935, df = 1, p-value = 2.286e-05\n",
      "alternative hypothesis: true value is greater than 0\n",
      "\n"
     ]
    },
    {
     "data": {
      "image/png": "[encoded data removed]",
      "text/plain": [
       "Plot with title \"Distribution of SOC_MOB_PH over CVdeath\""
      ]
     },
     "metadata": {
      "image/png": {
       "height": 420,
       "width": 420
      }
     },
     "output_type": "display_data"
    }
   ],
   "source": [
    "compare_variables(\"DATA.csv\", \"SOC_MOB_PH\", \"CVdeath\")"
   ]
  },
  {
   "cell_type": "code",
   "execution_count": 96,
   "metadata": {
    "vscode": {
     "languageId": "r"
    }
   },
   "outputs": [
    {
     "name": "stdout",
     "output_type": "stream",
     "text": [
      "[1] 0.1070111\n",
      "[1] 0.03616637\n",
      "$CVdeath\n",
      "CVdeath\n",
      "  0   1 \n",
      "0.9 0.1 \n",
      "\n",
      "$CVdeath\n",
      "CVdeath\n",
      "         0          1 \n",
      "0.96432749 0.03567251 \n",
      "\n"
     ]
    }
   ],
   "source": [
    "cond_prob <- cpquery(result$bn_fitted, \n",
    "                     event = (CVdeath == \"1\"), \n",
    "                     evidence = (SOC_MOB_PH == \"0\"))\n",
    "print(cond_prob)\n",
    "\n",
    "cond_prob <- cpquery(result$bn_fitted, \n",
    "                     event = (CVdeath == \"1\"), \n",
    "                     evidence = (SOC_MOB_PH == \"1\"))\n",
    "print(cond_prob)\n",
    "\n",
    "\n",
    "query1 <- querygrain(result$junction, nodes = c(\"CVdeath\"), evidence = list(SOC_MOB_PH = \"0\"))\n",
    "print(query1)\n",
    "query2 <- querygrain(result$junction, nodes = c(\"CVdeath\"), evidence = list(SOC_MOB_PH = \"1\"))\n",
    "print(query2)"
   ]
  },
  {
   "cell_type": "code",
   "execution_count": 97,
   "metadata": {
    "vscode": {
     "languageId": "r"
    }
   },
   "outputs": [
    {
     "name": "stdout",
     "output_type": "stream",
     "text": [
      "$SOC_LIV_ALN\n",
      "SOC_LIV_ALN\n",
      "         1          2 \n",
      "0.99038177 0.00961823 \n",
      "\n",
      "$SOC_LIV_ALN\n",
      "SOC_LIV_ALN\n",
      "        1         2 \n",
      "0.5351865 0.4648135 \n",
      "\n"
     ]
    }
   ],
   "source": [
    "query3 <- querygrain(result$junction, nodes = c(\"SOC_LIV_ALN\"), evidence = list(SOC_MAR_ST = \"1\"))\n",
    "print(query3)\n",
    "query4 <- querygrain(result$junction, nodes = c(\"SOC_LIV_ALN\"), evidence = list(SOC_MAR_ST = \"2\"))\n",
    "print(query4)"
   ]
  },
  {
   "cell_type": "code",
   "execution_count": 98,
   "metadata": {
    "vscode": {
     "languageId": "r"
    }
   },
   "outputs": [
    {
     "name": "stdout",
     "output_type": "stream",
     "text": [
      "$SOC_SOC_MED\n",
      "SOC_SOC_MED\n",
      "        0         1 \n",
      "0.8052933 0.1947067 \n",
      "\n"
     ]
    },
    {
     "name": "stdout",
     "output_type": "stream",
     "text": [
      "$SOC_SOC_MED\n",
      "SOC_SOC_MED\n",
      "        0         1 \n",
      "0.5030651 0.4969349 \n",
      "\n"
     ]
    }
   ],
   "source": [
    "query5 <- querygrain(result$junction, nodes = c(\"SOC_SOC_MED\"), evidence = list(SOC_ACT_EMP = \"1\"))\n",
    "print(query5)\n",
    "query6 <- querygrain(result$junction, nodes = c(\"SOC_SOC_MED\"), evidence = list(SOC_ACT_EMP = \"2\"))\n",
    "print(query6)"
   ]
  },
  {
   "cell_type": "code",
   "execution_count": 99,
   "metadata": {
    "vscode": {
     "languageId": "r"
    }
   },
   "outputs": [
    {
     "name": "stdout",
     "output_type": "stream",
     "text": [
      "$SOC_SUPP\n",
      "SOC_SUPP\n",
      "          0           1 \n",
      "0.004017531 0.995982469 \n",
      "\n",
      "$SOC_SUPP\n",
      "SOC_SUPP\n",
      "        0         1 \n",
      "0.1536797 0.8463203 \n",
      "\n"
     ]
    }
   ],
   "source": [
    "query7 <- querygrain(result$junction, nodes = c(\"SOC_SUPP\"), evidence = list(SOC_LIV_ALN = \"1\"))\n",
    "print(query7)\n",
    "query8 <- querygrain(result$junction, nodes = c(\"SOC_SUPP\"), evidence = list(SOC_LIV_ALN = \"2\"))\n",
    "print(query8)"
   ]
  },
  {
   "cell_type": "code",
   "execution_count": 100,
   "metadata": {
    "vscode": {
     "languageId": "r"
    }
   },
   "outputs": [
    {
     "name": "stdout",
     "output_type": "stream",
     "text": [
      "$SOC_MOB_PH\n",
      "SOC_MOB_PH\n",
      "        0         1 \n",
      "0.1488044 0.8511956 \n",
      "\n"
     ]
    },
    {
     "name": "stdout",
     "output_type": "stream",
     "text": [
      "$SOC_MOB_PH\n",
      "SOC_MOB_PH\n",
      "          0           1 \n",
      "0.006395786 0.993604214 \n",
      "\n"
     ]
    }
   ],
   "source": [
    "query9 <- querygrain(result$junction, nodes = c(\"SOC_MOB_PH\"), evidence = list(SOC_SOC_MED = \"0\"))\n",
    "print(query9)\n",
    "query10 <- querygrain(result$junction, nodes = c(\"SOC_MOB_PH\"), evidence = list(SOC_SOC_MED = \"1\"))\n",
    "print(query10)"
   ]
  },
  {
   "cell_type": "code",
   "execution_count": 185,
   "metadata": {
    "vscode": {
     "languageId": "r"
    }
   },
   "outputs": [
    {
     "name": "stderr",
     "output_type": "stream",
     "text": [
      "Warning message in check.data(x, allow.missing = TRUE):\n",
      "\"variable MH_BMI in the data has levels that are not observed in the data.\"\n",
      "Warning message in check.data(x, allow.missing = TRUE):\n",
      "\"variable MH_BMI in the data has levels that are not observed in the data.\"\n"
     ]
    },
    {
     "name": "stdout",
     "output_type": "stream",
     "text": [
      "           from           to Freq\n",
      "1        MH_AGE  SOC_ACT_EMP  200\n",
      "2        MH_AGE  SOC_SOC_MED  200\n",
      "3   SOC_LIV_ALN     SOC_SUPP  200\n",
      "4    SOC_MAR_ST  SOC_LIV_ALN  199\n",
      "5        MH_SMK       SOC_EX  198\n",
      "6       TRT_IND       TRT_EF  198\n",
      "7        MH_AGE   SOC_MOB_PH  197\n",
      "8       TRT_IND      TRT_ACC  195\n",
      "9        MH_SEX   SOC_MAR_ST  194\n",
      "10       MH_SEX      SOC_ALC  192\n",
      "11       MH_HTN       MH_CKD  190\n",
      "12       MH_AGE      SOC_EDU  187\n",
      "13 SOC_WOR_TYPE      SOC_RES  187\n",
      "14      SOC_EDU SOC_WOR_TYPE  185\n",
      "15       MH_CKD      CVdeath  183\n",
      "16       MH_AGE       MH_HGB  182\n",
      "17       MH_HTN       MH_DLP  180\n",
      "18       MH_AGE   SOC_MAR_ST  175\n",
      "19      TRT_DEC      TRT_LCA  169\n",
      "20       MH_AGE       MH_SMK  168\n",
      "      from           to            \n",
      " [1,] \"MH_AGE\"       \"SOC_ACT_EMP\" \n",
      " [2,] \"MH_AGE\"       \"SOC_SOC_MED\" \n",
      " [3,] \"SOC_LIV_ALN\"  \"SOC_SUPP\"    \n",
      " [4,] \"SOC_MAR_ST\"   \"SOC_LIV_ALN\" \n",
      " [5,] \"MH_SMK\"       \"SOC_EX\"      \n",
      " [6,] \"TRT_IND\"      \"TRT_EF\"      \n",
      " [7,] \"MH_AGE\"       \"SOC_MOB_PH\"  \n",
      " [8,] \"TRT_IND\"      \"TRT_ACC\"     \n",
      " [9,] \"MH_SEX\"       \"SOC_MAR_ST\"  \n",
      "[10,] \"MH_SEX\"       \"SOC_ALC\"     \n",
      "[11,] \"MH_HTN\"       \"MH_CKD\"      \n",
      "[12,] \"MH_AGE\"       \"SOC_EDU\"     \n",
      "[13,] \"SOC_WOR_TYPE\" \"SOC_RES\"     \n",
      "[14,] \"SOC_EDU\"      \"SOC_WOR_TYPE\"\n",
      "[15,] \"MH_CKD\"       \"CVdeath\"     \n",
      "[16,] \"MH_AGE\"       \"MH_HGB\"      \n",
      "[17,] \"MH_HTN\"       \"MH_DLP\"      \n",
      "[18,] \"MH_AGE\"       \"SOC_MAR_ST\"  \n",
      "[19,] \"TRT_DEC\"      \"TRT_LCA\"     \n",
      "[20,] \"MH_AGE\"       \"MH_SMK\"      \n",
      "[1] 65\n",
      "[1] \"[MH_AGE][TRT_IND][MH_SEX][MH_HTN][TRT_DEC][SOC_MAR_ST|MH_AGE:MH_SEX][MH_SMK|MH_AGE][SOC_EDU|MH_AGE][MH_CKD|MH_HTN][SOC_ACT_EMP|MH_AGE][SOC_SOC_MED|MH_AGE][TRT_EF|TRT_IND][SOC_MOB_PH|MH_AGE][TRT_ACC|TRT_IND][SOC_ALC|MH_SEX][MH_HGB|MH_AGE][MH_DLP|MH_HTN][TRT_LCA|TRT_DEC][SOC_LIV_ALN|SOC_MAR_ST][SOC_WOR_TYPE|SOC_EDU][SOC_EX|MH_SMK][CVdeath|MH_CKD][SOC_SUPP|SOC_LIV_ALN][SOC_RES|SOC_WOR_TYPE]\"\n",
      "[1] \"Ordered by strength:\"\n",
      "           from           to   strength abs_strength width\n",
      "18       MH_AGE   SOC_MAR_ST  -14.63285           14     2\n",
      "13 SOC_WOR_TYPE      SOC_RES  -21.16804           21     3\n",
      "15       MH_CKD      CVdeath  -26.77977           26     3\n",
      "14      SOC_EDU SOC_WOR_TYPE  -38.12409           38     3\n",
      "17       MH_HTN       MH_DLP  -39.36556           39     3\n",
      "12       MH_AGE      SOC_EDU  -41.92162           41     3\n",
      "5        MH_SMK       SOC_EX  -47.51798           47     3\n",
      "9        MH_SEX   SOC_MAR_ST  -54.86251           54     4\n",
      "16       MH_AGE       MH_HGB  -56.38193           56     4\n",
      "8       TRT_IND      TRT_ACC  -62.73691           62     4\n",
      "19      TRT_DEC      TRT_LCA  -67.87603           67     4\n",
      "11       MH_HTN       MH_CKD  -68.40469           68     4\n",
      "3   SOC_LIV_ALN     SOC_SUPP  -79.79725           79     4\n",
      "7        MH_AGE   SOC_MOB_PH  -82.41461           82     4\n",
      "6       TRT_IND       TRT_EF  -84.01878           84     4\n",
      "10       MH_SEX      SOC_ALC -120.66257          120     5\n",
      "2        MH_AGE  SOC_SOC_MED -198.15523          198     5\n",
      "20       MH_AGE       MH_SMK -212.75166          212     6\n",
      "4    SOC_MAR_ST  SOC_LIV_ALN -405.00122          405     6\n",
      "1        MH_AGE  SOC_ACT_EMP -498.48209          498     6\n"
     ]
    },
    {
     "data": {
      "image/png": "[encoded data removed]",
      "text/plain": [
       "plot without title"
      ]
     },
     "metadata": {
      "image/png": {
       "height": 420,
       "width": 420
      }
     },
     "output_type": "display_data"
    },
    {
     "data": {
      "image/png": "[encoded data removed]",
      "text/plain": [
       "plot without title"
      ]
     },
     "metadata": {
      "image/png": {
       "height": 420,
       "width": 420
      }
     },
     "output_type": "display_data"
    },
    {
     "data": {
      "image/png": "[encoded data removed]",
      "text/plain": [
       "Plot with title \"Frequency of Arcs\""
      ]
     },
     "metadata": {
      "image/png": {
       "height": 420,
       "width": 420
      }
     },
     "output_type": "display_data"
    }
   ],
   "source": [
    "file <- \"DATA.csv\"\n",
    "target <- \"CVdeath\"\n",
    "predictor_prefixes <- c(\"MH\", \"TRT\", \"SOC\")\n",
    "n_iter <- 200\n",
    "threshold <- 150\n",
    "seed <- 1\n",
    "# Execute the analysis\n",
    "result_CVdeath <- perform_analysis(file, target, predictor_prefixes, n_iter, threshold, seed)"
   ]
  },
  {
   "cell_type": "code",
   "execution_count": 102,
   "metadata": {
    "vscode": {
     "languageId": "r"
    }
   },
   "outputs": [
    {
     "name": "stdout",
     "output_type": "stream",
     "text": [
      "$CVdeath\n",
      "CVdeath\n",
      "         0          1 \n",
      "0.97158689 0.02841311 \n",
      "\n",
      "$CVdeath\n",
      "CVdeath\n",
      "        0         1 \n",
      "0.8488372 0.1511628 \n",
      "\n"
     ]
    }
   ],
   "source": [
    "query11 <- querygrain(result_CVdeath$junction, nodes = c(\"CVdeath\"), evidence = list(MH_CKD = \"0\"))\n",
    "print(query11)\n",
    "query12 <- querygrain(result_CVdeath$junction, nodes = c(\"CVdeath\"), evidence = list(MH_CKD = \"1\"))\n",
    "print(query12)"
   ]
  },
  {
   "cell_type": "code",
   "execution_count": 103,
   "metadata": {
    "vscode": {
     "languageId": "r"
    }
   },
   "outputs": [
    {
     "name": "stdout",
     "output_type": "stream",
     "text": [
      "$SOC_ACT_EMP\n",
      "SOC_ACT_EMP\n",
      "        1         2 \n",
      "0.3355042 0.6644958 \n",
      "\n",
      "$SOC_ACT_EMP\n",
      "SOC_ACT_EMP\n",
      "        1         2 \n",
      "0.8643027 0.1356973 \n",
      "\n",
      "$SOC_ACT_EMP\n",
      "SOC_ACT_EMP\n",
      "         1          2 \n",
      "0.98540941 0.01459059 \n",
      "\n"
     ]
    }
   ],
   "source": [
    "query13 <- querygrain(result_CVdeath$junction, nodes = c(\"SOC_ACT_EMP\"), evidence = list(MH_AGE = \"1\"))\n",
    "print(query13)\n",
    "query14 <- querygrain(result_CVdeath$junction, nodes = c(\"SOC_ACT_EMP\"), evidence = list(MH_AGE = \"2\"))\n",
    "print(query14)\n",
    "query15 <- querygrain(result_CVdeath$junction, nodes = c(\"SOC_ACT_EMP\"), evidence = list(MH_AGE = \"3\"))\n",
    "print(query15)"
   ]
  },
  {
   "cell_type": "code",
   "execution_count": 104,
   "metadata": {
    "vscode": {
     "languageId": "r"
    }
   },
   "outputs": [
    {
     "name": "stdout",
     "output_type": "stream",
     "text": [
      "$TRT_LAD\n",
      "TRT_LAD\n",
      "        0         1 \n",
      "0.3370956 0.6629044 \n",
      "\n",
      "$TRT_LAD\n",
      "TRT_LAD\n",
      "        0         1 \n",
      "0.3016704 0.6983296 \n",
      "\n",
      "$TRT_LAD\n",
      "TRT_LAD\n",
      "        0         1 \n",
      "0.6485302 0.3514698 \n",
      "\n"
     ]
    }
   ],
   "source": [
    "query16 <- querygrain(result_CVdeath$junction, nodes = c(\"TRT_LAD\"), evidence = list(TRT_DEC = \"1\"))\n",
    "print(query16)\n",
    "query17 <- querygrain(result_CVdeath$junction, nodes = c(\"TRT_LAD\"), evidence = list(TRT_DEC = \"2\"))\n",
    "print(query17)\n",
    "query18 <- querygrain(result_CVdeath$junction, nodes = c(\"TRT_LAD\"), evidence = list(TRT_DEC = \"3\"))\n",
    "print(query18)"
   ]
  },
  {
   "cell_type": "code",
   "execution_count": 105,
   "metadata": {
    "vscode": {
     "languageId": "r"
    }
   },
   "outputs": [
    {
     "data": {
      "text/html": [
       "113"
      ],
      "text/latex": [
       "113"
      ],
      "text/markdown": [
       "113"
      ],
      "text/plain": [
       "[1] 113"
      ]
     },
     "metadata": {},
     "output_type": "display_data"
    }
   ],
   "source": [
    "nparams(result_CVdeath$bn_fitted) # Number of parameters in the network"
   ]
  },
  {
   "cell_type": "code",
   "execution_count": 107,
   "metadata": {
    "vscode": {
     "languageId": "r"
    }
   },
   "outputs": [
    {
     "name": "stderr",
     "output_type": "stream",
     "text": [
      "Warning message in check.data(x, allow.missing = TRUE):\n",
      "\"variable MH_BMI in the data has levels that are not observed in the data.\"\n",
      "Warning message in check.data(x, allow.missing = TRUE):\n",
      "\"variable MH_BMI in the data has levels that are not observed in the data.\"\n"
     ]
    },
    {
     "name": "stdout",
     "output_type": "stream",
     "text": [
      "             from            to Freq\n",
      "1          MH_AGE   SOC_ACT_EMP  200\n",
      "2          MH_AGE   SOC_SOC_MED  200\n",
      "3     SOC_LIV_ALN      SOC_SUPP  200\n",
      "4      SOC_MAR_ST   SOC_LIV_ALN  199\n",
      "5          MH_SMK        SOC_EX  198\n",
      "6         TRT_IND        TRT_EF  198\n",
      "7          MH_AGE    SOC_MOB_PH  197\n",
      "8         TRT_IND       TRT_ACC  195\n",
      "9          MH_SEX    SOC_MAR_ST  194\n",
      "10         MH_SEX       SOC_ALC  192\n",
      "11         MH_HTN        MH_CKD  190\n",
      "12         MH_AGE       SOC_EDU  187\n",
      "13   SOC_WOR_TYPE       SOC_RES  187\n",
      "14        SOC_EDU  SOC_WOR_TYPE  185\n",
      "15         MH_AGE        MH_HGB  182\n",
      "16         MH_HTN        MH_DLP  180\n",
      "17         MH_AGE    SOC_MAR_ST  175\n",
      "18        TRT_DEC       TRT_LCA  169\n",
      "19         MH_AGE        MH_SMK  168\n",
      "20        TRT_LCX       TRT_LAD  165\n",
      "21     SOC_MOB_PH   SOC_SOC_MED  164\n",
      "22        TRT_RCA       TRT_LAD  163\n",
      "23         MH_AGE        MH_CKD  162\n",
      "24         MH_AGE     MH_FHxIHD  162\n",
      "25        TRT_LAD        TRT_EF  162\n",
      "26         MH_HTN        MH_BMI  156\n",
      "27         MH_SEX        SOC_EX  154\n",
      "28        TRT_DEC       TRT_LAD  154\n",
      "29        TRT_LCA       TRT_LAD  151\n",
      "30         MH_AGE       SOC_ALC  149\n",
      "31         MH_SMK       TRT_IND  147\n",
      "32         MH_SEX       TRT_ACC  146\n",
      "33        TRT_DEC       TRT_LCX  146\n",
      "34        TRT_IND       TRT_DEC  143\n",
      "35         MH_CKD        MH_HGB  142\n",
      "36         MH_SEX        MH_HGB  140\n",
      "37   SOC_WOR_TYPE   SOC_ACT_EMP  137\n",
      "38         MH_SMK        MH_SEX  134\n",
      "39        TRT_DEC       TRT_RCA  134\n",
      "40         MH_HTN         MH_DM  133\n",
      "41       MH_PMxMI     MH_PMxPCI  133\n",
      "42      MH_PMxPCI        MH_DLP  133\n",
      "43         MH_SMK SOC_SALT_DIET  133\n",
      "44         MH_AGE        MH_HTN  129\n",
      "45      MH_PMxPCI       TRT_DEC  128\n",
      "46         MH_PAD        MH_STK  118\n",
      "47          MH_DM        MH_PAD  113\n",
      "48        TRT_LCX       TRT_RCA  108\n",
      "49  SOC_SALT_DIET     SOC_A_TRT  105\n",
      "50        TRT_IND     MH_PMxPCI  100\n",
      "51         MH_AGE        MH_STK   95\n",
      "52      MH_PMxPCI       TRT_IND   90\n",
      "53    SOC_ACT_EMP        MH_STK   90\n",
      "54      MH_PMxPCI SOC_SALT_DIET   82\n",
      "55        TRT_RCA       TRT_LCX   78\n",
      "56         MH_AGE       TRT_LCA   77\n",
      "57    SOC_ACT_EMP        SOC_EX   77\n",
      "58      MH_PMxPCI           AMI   76\n",
      "59    SOC_ACT_EMP SOC_SALT_DIET   73\n",
      "60        SOC_EDU        MH_SEX   73\n",
      "61   SOC_WOR_TYPE    SOC_MOB_PH   73\n",
      "62         MH_CKD         MH_DM   72\n",
      "63         MH_HTN        MH_AGE   71\n",
      "64         MH_HGB         MH_DM   69\n",
      "65    SOC_ACT_EMP        MH_PAD   69\n",
      "66         MH_AGE        MH_SEX   68\n",
      "67         SOC_EX        MH_BMI   68\n",
      "68          MH_DM        MH_HTN   67\n",
      "69      MH_PMxPCI      MH_PMxMI   67\n",
      "70         MH_AGE SOC_SALT_DIET   66\n",
      "71         MH_SEX        MH_SMK   66\n",
      "72         MH_SEX       TRT_RCA   66\n",
      "73        TRT_IND      MH_PMxMI   66\n",
      "74      MH_PMxPCI        MH_PAD   63\n",
      "75       MH_PMxMI           AMI   61\n",
      "76     SOC_MOB_PH   SOC_LIV_ALN   60\n",
      "77     SOC_MOB_PH  SOC_WOR_TYPE   59\n",
      "78         MH_SMK        MH_PAD   58\n",
      "79         MH_CKD           AMI   57\n",
      "80         MH_AGE       TRT_ACC   56\n",
      "81         MH_SEX      SOC_SUPP   56\n",
      "82         MH_HGB        MH_CKD   54\n",
      "83        TRT_LCX       TRT_DEC   54\n",
      "84          MH_DM        MH_DLP   53\n",
      "85      MH_PMxPCI        MH_SMK   53\n",
      "86        SOC_EDU    SOC_MOB_PH   53\n",
      "87        TRT_DEC       TRT_IND   53\n",
      "88    SOC_ACT_EMP     SOC_A_TRT   52\n",
      "89        TRT_RCA       TRT_DEC   51\n",
      "90         MH_DLP     SOC_A_TRT   49\n",
      "91         MH_HGB        MH_PAD   49\n",
      "92    SOC_SOC_MED  SOC_WOR_TYPE   48\n",
      "93         MH_SMK     MH_PMxPCI   47\n",
      "94        TRT_LAD       TRT_DEC   46\n",
      "95         MH_HTN       TRT_LCA   43\n",
      "96         MH_SEX       SOC_EDU   43\n",
      "97        SOC_RES        MH_BMI   42\n",
      "98         MH_SEX     MH_FHxIHD   41\n",
      "99     SOC_MAR_ST       SOC_EDU   41\n",
      "100        MH_CKD        MH_PAD   40\n",
      "101   SOC_SOC_MED      SOC_SUPP   40\n",
      "102     MH_PMxPCI       TRT_RCA   38\n",
      "103        MH_BMI        MH_HTN   37\n",
      "104     SOC_A_TRT        MH_DLP   37\n",
      "105       TRT_LAD       TRT_RCA   37\n",
      "106   SOC_ACT_EMP       TRT_ACC   36\n",
      "107       SOC_ALC        MH_AGE   36\n",
      "108   SOC_SOC_MED    SOC_MOB_PH   36\n",
      "109       TRT_DEC     MH_PMxPCI   36\n",
      "110   SOC_SOC_MED        TRT_EF   35\n",
      "111       TRT_IND        MH_SMK   35\n",
      "112       TRT_DEC      MH_PMxMI   33\n",
      "113        MH_SMK        MH_AGE   32\n",
      "114     MH_PMxPCI       TRT_LCX   31\n",
      "115   SOC_ACT_EMP       SOC_RES   31\n",
      "116        TRT_EF       SOC_RES   31\n",
      "117       TRT_IND        MH_DLP   31\n",
      "118       TRT_LCA       TRT_DEC   31\n",
      "119       TRT_LAD       TRT_LCX   30\n",
      "120        MH_AGE       SOC_RES   29\n",
      "121        MH_AGE        MH_PAD   28\n",
      "122      MH_PMxMI     SOC_A_TRT   26\n",
      "123     MH_PMxPCI        MH_HTN   26\n",
      "124   SOC_ACT_EMP  SOC_WOR_TYPE   26\n",
      "125  SOC_WOR_TYPE   SOC_SOC_MED   26\n",
      "126        MH_CKD        MH_STK   25\n",
      "127        MH_DLP     MH_FHxIHD   25\n",
      "128     MH_PMxPCI     SOC_A_TRT   25\n",
      "129        MH_SEX        MH_AGE   25\n",
      "130        MH_SMK      MH_PMxMI   25\n",
      "131   SOC_ACT_EMP         MH_DM   25\n",
      "132         MH_DM        MH_CKD   24\n",
      "133        MH_PAD      MH_PMxMI   24\n",
      "134         MH_DM           AMI   23\n",
      "135    SOC_MOB_PH       SOC_EDU   23\n",
      "136       TRT_IND SOC_SALT_DIET   23\n",
      "137       TRT_LAD     MH_PMxPCI   23\n",
      "138        MH_PAD         MH_DM   22\n",
      "139        MH_HGB     MH_FHxIHD   21\n",
      "140        MH_PAD     MH_PMxPCI   21\n",
      "141        MH_STK        MH_PAD   21\n",
      "142   SOC_ACT_EMP     MH_PMxPCI   21\n",
      "143       TRT_IND        MH_HTN   21\n",
      "144        MH_DLP        MH_PAD   20\n",
      "145        MH_PAD        MH_DLP   20\n",
      "146 SOC_SALT_DIET      MH_PMxMI   20\n",
      "147        MH_PAD        MH_SMK   19\n",
      "148   SOC_ACT_EMP   SOC_LIV_ALN   19\n",
      "149        MH_DLP        MH_HTN   18\n",
      "150      MH_PMxMI        TRT_EF   18\n",
      "151       TRT_ACC        MH_SEX   18\n",
      "152       TRT_LCA       TRT_LCX   18\n",
      "153         MH_DM        MH_AGE   17\n",
      "154        MH_HTN SOC_SALT_DIET   17\n",
      "155        MH_SEX     SOC_A_TRT   17\n",
      "156   SOC_ACT_EMP        MH_HGB   17\n",
      "157       SOC_ALC SOC_SALT_DIET   17\n",
      "158       TRT_ACC  SOC_WOR_TYPE   17\n",
      "159           AMI      SOC_SUPP   16\n",
      "160         MH_DM        SOC_EX   16\n",
      "161        MH_HGB   SOC_ACT_EMP   15\n",
      "162        MH_HTN      MH_PMxMI   15\n",
      "163   SOC_ACT_EMP       SOC_ALC   15\n",
      "164        SOC_EX     SOC_A_TRT   15\n",
      "165       TRT_RCA        MH_SEX   15\n",
      "166     MH_FHxIHD        MH_AGE   14\n",
      "167        MH_HGB       TRT_LCX   14\n",
      "168        MH_HTN        MH_PAD   14\n",
      "169        MH_HTN       TRT_IND   14\n",
      "170    SOC_MAR_ST           AMI   14\n",
      "171 SOC_SALT_DIET       TRT_IND   14\n",
      "172  SOC_WOR_TYPE       SOC_EDU   14\n",
      "173        MH_AGE        MH_BMI   13\n",
      "174        MH_CKD        MH_AGE   13\n",
      "175        MH_CKD       TRT_ACC   13\n",
      "176        MH_DLP       TRT_IND   13\n",
      "177        MH_SMK       TRT_RCA   13\n",
      "178        MH_STK           AMI   13\n",
      "179   SOC_ACT_EMP       TRT_LCA   13\n",
      "180      SOC_SUPP           AMI   13\n",
      "181       TRT_LAD      MH_PMxMI   13\n",
      "182        MH_HGB      SOC_SUPP   12\n",
      "183        MH_HGB  SOC_WOR_TYPE   12\n",
      "184        MH_SEX   SOC_LIV_ALN   12\n",
      "185        MH_SMK     SOC_A_TRT   12\n",
      "186   SOC_ACT_EMP     MH_FHxIHD   12\n",
      "187       SOC_EDU   SOC_LIV_ALN   12\n",
      "188       SOC_RES  SOC_WOR_TYPE   12\n",
      "189   SOC_SOC_MED     MH_FHxIHD   12\n",
      "190        MH_HGB       TRT_LCA   11\n",
      "191        MH_HTN     MH_PMxPCI   11\n",
      "192      MH_PMxMI       TRT_IND   11\n",
      "193        MH_SEX        MH_PAD   11\n",
      "194        SOC_EX    SOC_MAR_ST   11\n",
      "195    SOC_MAR_ST      SOC_SUPP   11\n",
      "196  SOC_WOR_TYPE        MH_SEX   11\n",
      "197        MH_CKD        MH_HTN   10\n",
      "198        MH_HGB        MH_SEX   10\n",
      "199        MH_HGB     SOC_A_TRT   10\n",
      "200        MH_HTN        MH_SMK   10\n",
      "201     MH_PMxPCI   SOC_ACT_EMP   10\n",
      "202     SOC_A_TRT  SOC_WOR_TYPE   10\n",
      "203       SOC_ALC      SOC_SUPP   10\n",
      "204    SOC_MOB_PH     MH_FHxIHD   10\n",
      "205       SOC_RES           AMI   10\n",
      "206   SOC_SOC_MED       SOC_EDU   10\n",
      "207  SOC_WOR_TYPE        MH_SMK   10\n",
      "208        TRT_EF       TRT_RCA   10\n",
      "209       TRT_LCA           AMI   10\n",
      "210       TRT_LCX         MH_DM   10\n",
      "211       TRT_LCX       TRT_LCA   10\n",
      "212        MH_AGE      MH_PMxMI    9\n",
      "213        MH_BMI       SOC_RES    9\n",
      "214        MH_DLP      MH_PMxMI    9\n",
      "215        MH_STK     SOC_A_TRT    9\n",
      "216   SOC_ACT_EMP      MH_PMxMI    9\n",
      "217   SOC_LIV_ALN  SOC_WOR_TYPE    9\n",
      "218    SOC_MAR_ST  SOC_WOR_TYPE    9\n",
      "219        TRT_EF        MH_DLP    9\n",
      "220       TRT_LAD           AMI    9\n",
      "221        MH_CKD     SOC_A_TRT    8\n",
      "222        MH_DLP        MH_STK    8\n",
      "223         MH_DM        MH_HGB    8\n",
      "224         MH_DM        TRT_EF    8\n",
      "225        MH_HTN        MH_STK    8\n",
      "226      MH_PMxMI SOC_SALT_DIET    8\n",
      "227        MH_SEX        MH_BMI    8\n",
      "228        MH_SMK    SOC_MAR_ST    8\n",
      "229       SOC_ALC        MH_SEX    8\n",
      "230 SOC_SALT_DIET           AMI    8\n",
      "231 SOC_SALT_DIET     MH_PMxPCI    8\n",
      "232  SOC_WOR_TYPE        MH_BMI    8\n",
      "233        TRT_EF     SOC_A_TRT    8\n",
      "234       TRT_LCA        MH_AGE    8\n",
      "235           AMI      MH_PMxMI    7\n",
      "236        MH_CKD       TRT_LCA    7\n",
      "237        MH_DLP         MH_DM    7\n",
      "238        MH_DLP     MH_PMxPCI    7\n",
      "239        MH_DLP       SOC_RES    7\n",
      "240        MH_HGB       TRT_ACC    7\n",
      "241        MH_PAD        MH_HGB    7\n",
      "242      MH_PMxMI        MH_PAD    7\n",
      "243        SOC_EX     MH_FHxIHD    7\n",
      "244        SOC_EX   SOC_ACT_EMP    7\n",
      "245       TRT_ACC       TRT_LCA    7\n",
      "246        TRT_EF     MH_FHxIHD    7\n",
      "247       TRT_IND       TRT_LCX    7\n",
      "248       TRT_LAD        MH_DLP    7\n",
      "249       TRT_LCA       TRT_RCA    7\n",
      "250           AMI        MH_STK    6\n",
      "251        MH_CKD     MH_PMxPCI    6\n",
      "252        MH_DLP       TRT_RCA    6\n",
      "253     MH_PMxPCI     MH_FHxIHD    6\n",
      "254        MH_SMK        MH_HTN    6\n",
      "255   SOC_ACT_EMP        MH_CKD    6\n",
      "256   SOC_ACT_EMP       SOC_EDU    6\n",
      "257    SOC_MAR_ST        MH_SEX    6\n",
      "258   SOC_SOC_MED       SOC_RES    6\n",
      "259       TRT_ACC      MH_PMxMI    6\n",
      "260       TRT_ACC       SOC_RES    6\n",
      "261        MH_CKD   SOC_ACT_EMP    5\n",
      "262         MH_DM        MH_BMI    5\n",
      "263         MH_DM       TRT_LCX    5\n",
      "264        MH_HTN       SOC_RES    5\n",
      "265        MH_HTN      SOC_SUPP    5\n",
      "266        MH_PAD           AMI    5\n",
      "267        MH_SEX  SOC_WOR_TYPE    5\n",
      "268        MH_SEX       TRT_LCX    5\n",
      "269        MH_SMK       TRT_LAD    5\n",
      "270   SOC_ACT_EMP    SOC_MOB_PH    5\n",
      "271       SOC_EDU   SOC_ACT_EMP    5\n",
      "272   SOC_SOC_MED SOC_SALT_DIET    5\n",
      "273       TRT_ACC        MH_AGE    5\n",
      "274       TRT_ACC       TRT_IND    5\n",
      "275        TRT_EF      MH_PMxMI    5\n",
      "276       TRT_IND           AMI    5\n",
      "277       TRT_LCA       TRT_ACC    5\n",
      "278           AMI       SOC_RES    4\n",
      "279        MH_CKD       TRT_IND    4\n",
      "280        MH_DLP      SOC_SUPP    4\n",
      "281         MH_DM      MH_PMxMI    4\n",
      "282         MH_DM        MH_STK    4\n",
      "283     MH_FHxIHD        MH_DLP    4\n",
      "284     MH_FHxIHD        MH_HTN    4\n",
      "285        MH_HTN     SOC_A_TRT    4\n",
      "286        MH_HTN   SOC_ACT_EMP    4\n",
      "287        MH_HTN       TRT_RCA    4\n",
      "288        MH_PAD        TRT_EF    4\n",
      "289     MH_PMxPCI         MH_DM    4\n",
      "290     MH_PMxPCI       SOC_RES    4\n",
      "291        MH_STK        MH_DLP    4\n",
      "292       SOC_EDU        MH_STK    4\n",
      "293        SOC_EX  SOC_WOR_TYPE    4\n",
      "294    SOC_MOB_PH     SOC_A_TRT    4\n",
      "295    SOC_MOB_PH       SOC_RES    4\n",
      "296       SOC_RES        MH_STK    4\n",
      "297 SOC_SALT_DIET       TRT_LCA    4\n",
      "298   SOC_SOC_MED           AMI    4\n",
      "299   SOC_SOC_MED   SOC_ACT_EMP    4\n",
      "300       TRT_DEC     SOC_A_TRT    4\n",
      "301       TRT_IND       TRT_LCA    4\n",
      "302        MH_CKD        MH_SEX    3\n",
      "303        MH_DLP           AMI    3\n",
      "304         MH_DM        MH_SEX    3\n",
      "305         MH_DM        MH_SMK    3\n",
      "306         MH_DM    SOC_MAR_ST    3\n",
      "307     MH_FHxIHD     SOC_A_TRT    3\n",
      "308     MH_FHxIHD       SOC_RES    3\n",
      "309        MH_HGB        MH_AGE    3\n",
      "310        MH_HTN     MH_FHxIHD    3\n",
      "311        MH_HTN        MH_HGB    3\n",
      "312        MH_HTN        SOC_EX    3\n",
      "313        MH_PAD SOC_SALT_DIET    3\n",
      "314      MH_PMxMI        MH_DLP    3\n",
      "315      MH_PMxMI       SOC_RES    3\n",
      "316     MH_PMxPCI       TRT_LAD    3\n",
      "317        MH_SMK       TRT_LCA    3\n",
      "318   SOC_ACT_EMP   SOC_SOC_MED    3\n",
      "319   SOC_ACT_EMP      SOC_SUPP    3\n",
      "320   SOC_ACT_EMP       TRT_LAD    3\n",
      "321   SOC_ACT_EMP       TRT_LCX    3\n",
      "322   SOC_ACT_EMP       TRT_RCA    3\n",
      "323       SOC_ALC   SOC_LIV_ALN    3\n",
      "324       SOC_ALC  SOC_WOR_TYPE    3\n",
      "325   SOC_LIV_ALN           AMI    3\n",
      "326    SOC_MOB_PH        MH_BMI    3\n",
      "327       SOC_RES    SOC_MOB_PH    3\n",
      "328 SOC_SALT_DIET       TRT_DEC    3\n",
      "329   SOC_SOC_MED      MH_PMxMI    3\n",
      "330   SOC_SOC_MED       TRT_ACC    3\n",
      "331  SOC_WOR_TYPE    SOC_MAR_ST    3\n",
      "332       TRT_ACC        MH_PAD    3\n",
      "333       TRT_ACC   SOC_LIV_ALN    3\n",
      "334        TRT_EF           AMI    3\n",
      "335        TRT_EF   SOC_LIV_ALN    3\n",
      "336       TRT_IND        MH_AGE    3\n",
      "337       TRT_IND       TRT_RCA    3\n",
      "338       TRT_LAD SOC_SALT_DIET    3\n",
      "339       TRT_LCA        MH_HTN    3\n",
      "340       TRT_LCA    SOC_MAR_ST    3\n",
      "341       TRT_RCA     MH_PMxPCI    3\n",
      "342       TRT_RCA       TRT_LCA    3\n",
      "343           AMI     SOC_A_TRT    2\n",
      "344        MH_AGE         MH_DM    2\n",
      "345        MH_AGE     SOC_A_TRT    2\n",
      "346        MH_BMI        SOC_EX    2\n",
      "347        MH_CKD      MH_PMxMI    2\n",
      "348        MH_CKD    SOC_MAR_ST    2\n",
      "349        MH_CKD       TRT_RCA    2\n",
      "350        MH_DLP       TRT_LCX    2\n",
      "351         MH_DM     MH_PMxPCI    2\n",
      "352         MH_DM       SOC_RES    2\n",
      "353         MH_DM      SOC_SUPP    2\n",
      "354     MH_FHxIHD   SOC_ACT_EMP    2\n",
      "355     MH_FHxIHD    SOC_MOB_PH    2\n",
      "356     MH_FHxIHD        TRT_EF    2\n",
      "357        MH_PAD     SOC_A_TRT    2\n",
      "358        MH_PAD       TRT_RCA    2\n",
      "359      MH_PMxMI        MH_HTN    2\n",
      "360      MH_PMxMI       TRT_DEC    2\n",
      "361      MH_PMxMI       TRT_LAD    2\n",
      "362      MH_PMxMI       TRT_RCA    2\n",
      "363        MH_SEX    SOC_MOB_PH    2\n",
      "364        MH_SEX       SOC_RES    2\n",
      "365        MH_SEX SOC_SALT_DIET    2\n",
      "366        MH_SMK           AMI    2\n",
      "367        MH_SMK    SOC_MOB_PH    2\n",
      "368        MH_STK       SOC_RES    2\n",
      "369     SOC_A_TRT       SOC_RES    2\n",
      "370   SOC_ACT_EMP           AMI    2\n",
      "371   SOC_ACT_EMP        MH_HTN    2\n",
      "372       SOC_EDU        MH_AGE    2\n",
      "373       SOC_EDU    SOC_MAR_ST    2\n",
      "374        SOC_EX         MH_DM    2\n",
      "375        SOC_EX        MH_STK    2\n",
      "376   SOC_LIV_ALN    SOC_MOB_PH    2\n",
      "377    SOC_MAR_ST        MH_DLP    2\n",
      "378    SOC_MOB_PH        MH_CKD    2\n",
      "379    SOC_MOB_PH        MH_SEX    2\n",
      "380       SOC_RES    SOC_MAR_ST    2\n",
      "381 SOC_SALT_DIET        MH_HTN    2\n",
      "382 SOC_SALT_DIET        MH_SEX    2\n",
      "383 SOC_SALT_DIET      SOC_SUPP    2\n",
      "384   SOC_SOC_MED        MH_BMI    2\n",
      "385   SOC_SOC_MED        MH_CKD    2\n",
      "386      SOC_SUPP     SOC_A_TRT    2\n",
      "387  SOC_WOR_TYPE        MH_HGB    2\n",
      "388  SOC_WOR_TYPE       SOC_ALC    2\n",
      "389  SOC_WOR_TYPE       TRT_LAD    2\n",
      "390       TRT_ACC   SOC_ACT_EMP    2\n",
      "391       TRT_DEC SOC_SALT_DIET    2\n",
      "392        TRT_EF      SOC_SUPP    2\n",
      "393        TRT_EF       TRT_IND    2\n",
      "394       TRT_LAD        MH_BMI    2\n",
      "395       TRT_LAD         MH_DM    2\n",
      "396       TRT_LCX        MH_SEX    2\n",
      "397       TRT_LCX      SOC_SUPP    2\n",
      "398       TRT_RCA           AMI    2\n",
      "399       TRT_RCA        MH_DLP    2\n",
      "400       TRT_RCA   SOC_LIV_ALN    2\n",
      "401       TRT_RCA        TRT_EF    2\n",
      "402           AMI       TRT_LCA    1\n",
      "403        MH_AGE           AMI    1\n",
      "404        MH_AGE     MH_PMxPCI    1\n",
      "405        MH_AGE        SOC_EX    1\n",
      "406        MH_AGE   SOC_LIV_ALN    1\n",
      "407        MH_AGE      SOC_SUPP    1\n",
      "408        MH_AGE        TRT_EF    1\n",
      "409        MH_AGE       TRT_LAD    1\n",
      "410        MH_AGE       TRT_LCX    1\n",
      "411        MH_CKD     MH_FHxIHD    1\n",
      "412        MH_CKD       SOC_RES    1\n",
      "413        MH_CKD   SOC_SOC_MED    1\n",
      "414        MH_CKD      SOC_SUPP    1\n",
      "415        MH_CKD       TRT_LCX    1\n",
      "416        MH_DLP        MH_AGE    1\n",
      "417        MH_DLP    SOC_MOB_PH    1\n",
      "418         MH_DM   SOC_ACT_EMP    1\n",
      "419         MH_DM   SOC_LIV_ALN    1\n",
      "420         MH_DM    SOC_MOB_PH    1\n",
      "421         MH_DM  SOC_WOR_TYPE    1\n",
      "422         MH_DM       TRT_ACC    1\n",
      "423         MH_DM       TRT_LAD    1\n",
      "424         MH_DM       TRT_RCA    1\n",
      "425     MH_FHxIHD         MH_DM    1\n",
      "426     MH_FHxIHD        MH_SMK    1\n",
      "427     MH_FHxIHD        MH_STK    1\n",
      "428     MH_FHxIHD   SOC_LIV_ALN    1\n",
      "429     MH_FHxIHD    SOC_MAR_ST    1\n",
      "430     MH_FHxIHD   SOC_SOC_MED    1\n",
      "431     MH_FHxIHD       TRT_IND    1\n",
      "432        MH_HGB     MH_PMxPCI    1\n",
      "433        MH_HGB        MH_SMK    1\n",
      "434        MH_HGB        MH_STK    1\n",
      "435        MH_HGB        TRT_EF    1\n",
      "436        MH_HGB       TRT_RCA    1\n",
      "437        MH_HTN           AMI    1\n",
      "438        MH_HTN        MH_SEX    1\n",
      "439        MH_HTN       TRT_DEC    1\n",
      "440        MH_HTN       TRT_LAD    1\n",
      "441        MH_HTN       TRT_LCX    1\n",
      "442        MH_PAD        MH_SEX    1\n",
      "443        MH_PAD        SOC_EX    1\n",
      "444        MH_PAD   SOC_LIV_ALN    1\n",
      "445        MH_PAD       TRT_ACC    1\n",
      "446        MH_PAD       TRT_IND    1\n",
      "447        MH_PAD       TRT_LAD    1\n",
      "448      MH_PMxMI     MH_FHxIHD    1\n",
      "449      MH_PMxMI        MH_SMK    1\n",
      "450      MH_PMxMI       SOC_EDU    1\n",
      "451      MH_PMxMI       TRT_LCX    1\n",
      "452     MH_PMxPCI        MH_SEX    1\n",
      "453     MH_PMxPCI        MH_STK    1\n",
      "454     MH_PMxPCI      SOC_SUPP    1\n",
      "455     MH_PMxPCI  SOC_WOR_TYPE    1\n",
      "456     MH_PMxPCI       TRT_LCA    1\n",
      "457        MH_SEX      MH_PMxMI    1\n",
      "458        MH_SEX     MH_PMxPCI    1\n",
      "459        MH_SEX       TRT_DEC    1\n",
      "460        MH_SMK         MH_DM    1\n",
      "461        MH_SMK     MH_FHxIHD    1\n",
      "462        MH_STK        MH_AGE    1\n",
      "463        MH_STK     MH_FHxIHD    1\n",
      "464        MH_STK       SOC_EDU    1\n",
      "465        MH_STK      SOC_SUPP    1\n",
      "466        MH_STK       TRT_RCA    1\n",
      "467     SOC_A_TRT           AMI    1\n",
      "468     SOC_A_TRT     MH_PMxPCI    1\n",
      "469     SOC_A_TRT        MH_SMK    1\n",
      "470     SOC_A_TRT    SOC_MAR_ST    1\n",
      "471     SOC_A_TRT       TRT_LCX    1\n",
      "472       SOC_ALC         MH_DM    1\n",
      "473       SOC_ALC     SOC_A_TRT    1\n",
      "474       SOC_ALC       SOC_EDU    1\n",
      "475       SOC_EDU           AMI    1\n",
      "476       SOC_EDU      MH_PMxMI    1\n",
      "477       SOC_EDU   SOC_SOC_MED    1\n",
      "478        SOC_EX           AMI    1\n",
      "479        SOC_EX      MH_PMxMI    1\n",
      "480        SOC_EX        MH_SEX    1\n",
      "481        SOC_EX   SOC_LIV_ALN    1\n",
      "482        SOC_EX       TRT_LCX    1\n",
      "483   SOC_LIV_ALN     MH_FHxIHD    1\n",
      "484   SOC_LIV_ALN    SOC_MAR_ST    1\n",
      "485   SOC_LIV_ALN       SOC_RES    1\n",
      "486   SOC_LIV_ALN        TRT_EF    1\n",
      "487    SOC_MAR_ST        MH_BMI    1\n",
      "488    SOC_MAR_ST         MH_DM    1\n",
      "489    SOC_MAR_ST        MH_STK    1\n",
      "490    SOC_MAR_ST       TRT_LCX    1\n",
      "491    SOC_MOB_PH        MH_PAD    1\n",
      "492    SOC_MOB_PH        MH_SMK    1\n",
      "493    SOC_MOB_PH        MH_STK    1\n",
      "494    SOC_MOB_PH   SOC_ACT_EMP    1\n",
      "495    SOC_MOB_PH SOC_SALT_DIET    1\n",
      "496       SOC_RES      MH_PMxMI    1\n",
      "497 SOC_SALT_DIET        MH_CKD    1\n",
      "498 SOC_SALT_DIET        MH_DLP    1\n",
      "499 SOC_SALT_DIET   SOC_ACT_EMP    1\n",
      "500 SOC_SALT_DIET       SOC_ALC    1\n",
      "501 SOC_SALT_DIET   SOC_LIV_ALN    1\n",
      "502 SOC_SALT_DIET    SOC_MAR_ST    1\n",
      "503   SOC_SOC_MED        MH_SEX    1\n",
      "504   SOC_SOC_MED     SOC_A_TRT    1\n",
      "505   SOC_SOC_MED        SOC_EX    1\n",
      "506   SOC_SOC_MED    SOC_MAR_ST    1\n",
      "507   SOC_SOC_MED       TRT_RCA    1\n",
      "508      SOC_SUPP        MH_CKD    1\n",
      "509      SOC_SUPP     MH_FHxIHD    1\n",
      "510      SOC_SUPP        MH_HGB    1\n",
      "511      SOC_SUPP   SOC_ACT_EMP    1\n",
      "512      SOC_SUPP       SOC_RES    1\n",
      "513      SOC_SUPP  SOC_WOR_TYPE    1\n",
      "514  SOC_WOR_TYPE      MH_PMxMI    1\n",
      "515  SOC_WOR_TYPE     MH_PMxPCI    1\n",
      "516  SOC_WOR_TYPE        MH_STK    1\n",
      "517  SOC_WOR_TYPE     SOC_A_TRT    1\n",
      "518  SOC_WOR_TYPE        SOC_EX    1\n",
      "519       TRT_ACC        MH_STK    1\n",
      "520       TRT_ACC        SOC_EX    1\n",
      "521       TRT_ACC    SOC_MAR_ST    1\n",
      "522       TRT_ACC      SOC_SUPP    1\n",
      "523       TRT_ACC        TRT_EF    1\n",
      "524       TRT_DEC        MH_HTN    1\n",
      "525       TRT_DEC   SOC_LIV_ALN    1\n",
      "526        TRT_EF         MH_DM    1\n",
      "527        TRT_EF       TRT_LCA    1\n",
      "528        TRT_EF       TRT_LCX    1\n",
      "529       TRT_IND         MH_DM    1\n",
      "530       TRT_IND    SOC_MOB_PH    1\n",
      "531       TRT_IND      SOC_SUPP    1\n",
      "532       TRT_LAD       SOC_EDU    1\n",
      "533       TRT_LAD       SOC_RES    1\n",
      "534       TRT_LAD  SOC_WOR_TYPE    1\n",
      "535       TRT_LCA        MH_SMK    1\n",
      "536       TRT_LCA     SOC_A_TRT    1\n",
      "537       TRT_LCA       TRT_IND    1\n",
      "538       TRT_LCX           AMI    1\n",
      "539       TRT_LCX        MH_AGE    1\n",
      "540       TRT_LCX     MH_FHxIHD    1\n",
      "541       TRT_LCX        MH_HTN    1\n",
      "542       TRT_LCX      MH_PMxMI    1\n",
      "543       TRT_LCX     MH_PMxPCI    1\n",
      "544       TRT_LCX        MH_STK    1\n",
      "545       TRT_LCX     SOC_A_TRT    1\n",
      "546       TRT_LCX   SOC_ACT_EMP    1\n",
      "547       TRT_LCX       SOC_RES    1\n",
      "548       TRT_LCX  SOC_WOR_TYPE    1\n",
      "549       TRT_LCX       TRT_IND    1\n",
      "550       TRT_RCA         MH_DM    1\n",
      "551       TRT_RCA     MH_FHxIHD    1\n",
      "552       TRT_RCA        MH_HGB    1\n",
      "553       TRT_RCA       SOC_RES    1\n",
      "      from            to             \n",
      " [1,] \"MH_AGE\"        \"SOC_ACT_EMP\"  \n",
      " [2,] \"MH_AGE\"        \"SOC_SOC_MED\"  \n",
      " [3,] \"SOC_LIV_ALN\"   \"SOC_SUPP\"     \n",
      " [4,] \"SOC_MAR_ST\"    \"SOC_LIV_ALN\"  \n",
      " [5,] \"MH_SMK\"        \"SOC_EX\"       \n",
      " [6,] \"TRT_IND\"       \"TRT_EF\"       \n",
      " [7,] \"MH_AGE\"        \"SOC_MOB_PH\"   \n",
      " [8,] \"TRT_IND\"       \"TRT_ACC\"      \n",
      " [9,] \"MH_SEX\"        \"SOC_MAR_ST\"   \n",
      "[10,] \"MH_SEX\"        \"SOC_ALC\"      \n",
      "[11,] \"MH_HTN\"        \"MH_CKD\"       \n",
      "[12,] \"MH_AGE\"        \"SOC_EDU\"      \n",
      "[13,] \"SOC_WOR_TYPE\"  \"SOC_RES\"      \n",
      "[14,] \"SOC_EDU\"       \"SOC_WOR_TYPE\" \n",
      "[15,] \"MH_AGE\"        \"MH_HGB\"       \n",
      "[16,] \"MH_HTN\"        \"MH_DLP\"       \n",
      "[17,] \"MH_AGE\"        \"SOC_MAR_ST\"   \n",
      "[18,] \"TRT_DEC\"       \"TRT_LCA\"      \n",
      "[19,] \"MH_AGE\"        \"MH_SMK\"       \n",
      "[20,] \"TRT_LCX\"       \"TRT_LAD\"      \n",
      "[21,] \"SOC_MOB_PH\"    \"SOC_SOC_MED\"  \n",
      "[22,] \"TRT_RCA\"       \"TRT_LAD\"      \n",
      "[23,] \"MH_AGE\"        \"MH_CKD\"       \n",
      "[24,] \"MH_AGE\"        \"MH_FHxIHD\"    \n",
      "[25,] \"TRT_LAD\"       \"TRT_EF\"       \n",
      "[26,] \"MH_HTN\"        \"MH_BMI\"       \n",
      "[27,] \"MH_SEX\"        \"SOC_EX\"       \n",
      "[28,] \"TRT_DEC\"       \"TRT_LAD\"      \n",
      "[29,] \"TRT_LCA\"       \"TRT_LAD\"      \n",
      "[30,] \"MH_AGE\"        \"SOC_ALC\"      \n",
      "[31,] \"MH_SMK\"        \"TRT_IND\"      \n",
      "[32,] \"MH_SEX\"        \"TRT_ACC\"      \n",
      "[33,] \"TRT_DEC\"       \"TRT_LCX\"      \n",
      "[34,] \"TRT_IND\"       \"TRT_DEC\"      \n",
      "[35,] \"MH_CKD\"        \"MH_HGB\"       \n",
      "[36,] \"MH_SEX\"        \"MH_HGB\"       \n",
      "[37,] \"SOC_WOR_TYPE\"  \"SOC_ACT_EMP\"  \n",
      "[38,] \"TRT_DEC\"       \"TRT_RCA\"      \n",
      "[39,] \"MH_HTN\"        \"MH_DM\"        \n",
      "[40,] \"MH_PMxMI\"      \"MH_PMxPCI\"    \n",
      "[41,] \"MH_PMxPCI\"     \"MH_DLP\"       \n",
      "[42,] \"MH_SMK\"        \"SOC_SALT_DIET\"\n",
      "[43,] \"MH_AGE\"        \"MH_HTN\"       \n",
      "[44,] \"MH_PMxPCI\"     \"TRT_DEC\"      \n",
      "[45,] \"MH_PAD\"        \"MH_STK\"       \n",
      "[46,] \"MH_DM\"         \"MH_PAD\"       \n",
      "[47,] \"TRT_LCX\"       \"TRT_RCA\"      \n",
      "[48,] \"SOC_SALT_DIET\" \"SOC_A_TRT\"    \n",
      "[49,] \"TRT_IND\"       \"MH_PMxPCI\"    \n",
      "[50,] \"MH_AGE\"        \"MH_STK\"       \n",
      "[51,] \"SOC_ACT_EMP\"   \"MH_STK\"       \n",
      "[52,] \"MH_PMxPCI\"     \"SOC_SALT_DIET\"\n",
      "[53,] \"MH_AGE\"        \"TRT_LCA\"      \n",
      "[54,] \"SOC_ACT_EMP\"   \"SOC_EX\"       \n",
      "[55,] \"MH_PMxPCI\"     \"AMI\"          \n",
      "[56,] \"SOC_ACT_EMP\"   \"SOC_SALT_DIET\"\n",
      "[57,] \"SOC_WOR_TYPE\"  \"SOC_MOB_PH\"   \n",
      "[58,] \"MH_CKD\"        \"MH_DM\"        \n",
      "[59,] \"MH_HGB\"        \"MH_DM\"        \n",
      "[60,] \"SOC_ACT_EMP\"   \"MH_PAD\"       \n",
      "[61,] \"SOC_EX\"        \"MH_BMI\"       \n",
      "[62,] \"MH_AGE\"        \"SOC_SALT_DIET\"\n",
      "[63,] \"MH_SEX\"        \"MH_SMK\"       \n",
      "[64,] \"MH_SEX\"        \"TRT_RCA\"      \n",
      "[65,] \"TRT_IND\"       \"MH_PMxMI\"     \n",
      "[66,] \"MH_PMxPCI\"     \"MH_PAD\"       \n",
      "[67,] \"MH_PMxMI\"      \"AMI\"          \n",
      "[68,] \"SOC_MOB_PH\"    \"SOC_LIV_ALN\"  \n",
      "[69,] \"MH_SMK\"        \"MH_PAD\"       \n",
      "[70,] \"MH_CKD\"        \"AMI\"          \n",
      "[71,] \"MH_AGE\"        \"TRT_ACC\"      \n",
      "[72,] \"MH_SEX\"        \"SOC_SUPP\"     \n",
      "[73,] \"MH_DM\"         \"MH_DLP\"       \n",
      "[74,] \"SOC_EDU\"       \"SOC_MOB_PH\"   \n",
      "[75,] \"SOC_ACT_EMP\"   \"SOC_A_TRT\"    \n",
      "[1] 319\n",
      "[1] \"[MH_AGE][MH_SEX][SOC_MAR_ST|MH_AGE:MH_SEX][MH_SMK|MH_AGE:MH_SEX][MH_HTN|MH_AGE][SOC_EDU|MH_AGE][SOC_ALC|MH_AGE:MH_SEX][MH_FHxIHD|MH_AGE][TRT_IND|MH_SMK][SOC_WOR_TYPE|SOC_EDU][MH_CKD|MH_AGE:MH_HTN][SOC_MOB_PH|MH_AGE:SOC_WOR_TYPE:SOC_EDU][MH_PMxMI|TRT_IND][SOC_ACT_EMP|MH_AGE:SOC_WOR_TYPE][MH_HGB|MH_AGE:MH_SEX:MH_CKD][TRT_ACC|MH_AGE:TRT_IND:MH_SEX][SOC_RES|SOC_WOR_TYPE][SOC_LIV_ALN|SOC_MAR_ST:SOC_MOB_PH][MH_PMxPCI|TRT_IND:MH_PMxMI][MH_DM|MH_HTN:MH_CKD:MH_HGB][SOC_EX|MH_SMK:MH_SEX:SOC_ACT_EMP][SOC_SOC_MED|MH_AGE:SOC_MOB_PH][TRT_DEC|TRT_IND:MH_PMxPCI][MH_PAD|MH_SMK:MH_PMxPCI:MH_DM:SOC_ACT_EMP][SOC_SALT_DIET|MH_AGE:MH_SMK:MH_PMxPCI:SOC_ACT_EMP][SOC_SUPP|SOC_LIV_ALN:MH_SEX][MH_DLP|MH_HTN:MH_PMxPCI:MH_DM][MH_BMI|MH_HTN:SOC_EX][AMI|MH_CKD:MH_PMxMI:MH_PMxPCI][TRT_LCX|TRT_DEC][TRT_LCA|MH_AGE:TRT_DEC][MH_STK|MH_AGE:MH_PAD:SOC_ACT_EMP][SOC_A_TRT|SOC_SALT_DIET:SOC_ACT_EMP][TRT_RCA|MH_SEX:TRT_DEC:TRT_LCX][TRT_LAD|TRT_DEC:TRT_LCX:TRT_RCA:TRT_LCA][TRT_EF|TRT_IND:TRT_LAD]\"\n",
      "[1] \"Ordered by strength:\"\n",
      "            from            to    strength abs_strength width\n",
      "62        MH_AGE SOC_SALT_DIET   77.686546           77     4\n",
      "42        MH_SMK SOC_SALT_DIET   64.035914           64     4\n",
      "56   SOC_ACT_EMP SOC_SALT_DIET   57.838280           57     4\n",
      "52     MH_PMxPCI SOC_SALT_DIET   45.322095           45     3\n",
      "69        MH_SMK        MH_PAD   38.948286           38     3\n",
      "66     MH_PMxPCI        MH_PAD   28.937433           28     3\n",
      "60   SOC_ACT_EMP        MH_PAD   25.357961           25     3\n",
      "46         MH_DM        MH_PAD   23.687073           23     3\n",
      "50        MH_AGE        MH_STK   22.936646           22     3\n",
      "51   SOC_ACT_EMP        MH_STK   18.462307           18     2\n",
      "71        MH_AGE       TRT_ACC   14.826084           14     2\n",
      "74       SOC_EDU    SOC_MOB_PH   13.201160           13     2\n",
      "55     MH_PMxPCI           AMI   11.154624           11     2\n",
      "67      MH_PMxMI           AMI   10.803513           10     1\n",
      "70        MH_CKD           AMI   10.222042           10     1\n",
      "45        MH_PAD        MH_STK    9.496490            9     1\n",
      "32        MH_SEX       TRT_ACC    6.741177            6     1\n",
      "64        MH_SEX       TRT_RCA    6.438348            6     1\n",
      "54   SOC_ACT_EMP        SOC_EX    5.714678            5     1\n",
      "57  SOC_WOR_TYPE    SOC_MOB_PH    4.851276            4     1\n",
      "61        SOC_EX        MH_BMI    3.343678            3     1\n",
      "73         MH_DM        MH_DLP    3.336389            3     1\n",
      "59        MH_HGB         MH_DM    1.903371            1     1\n",
      "58        MH_CKD         MH_DM    1.868063            1     1\n",
      "72        MH_SEX      SOC_SUPP    1.362193            1     1\n",
      "68    SOC_MOB_PH   SOC_LIV_ALN    1.348896            1     1\n",
      "75   SOC_ACT_EMP     SOC_A_TRT    1.203318            1     1\n",
      "53        MH_AGE       TRT_LCA   -1.076372            1     1\n",
      "48 SOC_SALT_DIET     SOC_A_TRT   -1.732137            1     1\n",
      "27        MH_SEX        SOC_EX   -1.804819            1     1\n",
      "41     MH_PMxPCI        MH_DLP   -3.587615            3     1\n",
      "36        MH_SEX        MH_HGB   -3.633203            3     1\n",
      "47       TRT_LCX       TRT_RCA   -5.141363            5     1\n",
      "37  SOC_WOR_TYPE   SOC_ACT_EMP   -7.769480            7     1\n",
      "25       TRT_LAD        TRT_EF   -9.238801            9     1\n",
      "5         MH_SMK        SOC_EX  -13.030532           13     2\n",
      "35        MH_CKD        MH_HGB  -13.075360           13     2\n",
      "26        MH_HTN        MH_BMI  -13.124169           13     2\n",
      "16        MH_HTN        MH_DLP  -14.357897           14     2\n",
      "17        MH_AGE    SOC_MAR_ST  -14.632849           14     2\n",
      "29       TRT_LCA       TRT_LAD  -16.031991           16     2\n",
      "24        MH_AGE     MH_FHxIHD  -17.381914           17     2\n",
      "13  SOC_WOR_TYPE       SOC_RES  -21.168044           21     3\n",
      "38       TRT_DEC       TRT_RCA  -21.273355           21     3\n",
      "21    SOC_MOB_PH   SOC_SOC_MED  -23.434814           23     3\n",
      "65       TRT_IND      MH_PMxMI  -27.583337           27     3\n",
      "23        MH_AGE        MH_CKD  -30.141683           30     3\n",
      "33       TRT_DEC       TRT_LCX  -32.609179           32     3\n",
      "15        MH_AGE        MH_HGB  -32.908019           32     3\n",
      "44     MH_PMxPCI       TRT_DEC  -33.024570           33     3\n",
      "30        MH_AGE       SOC_ALC  -33.426968           33     3\n",
      "11        MH_HTN        MH_CKD  -33.663355           33     3\n",
      "14       SOC_EDU  SOC_WOR_TYPE  -38.124089           38     3\n",
      "12        MH_AGE       SOC_EDU  -41.921617           41     3\n",
      "8        TRT_IND       TRT_ACC  -42.709706           42     3\n",
      "7         MH_AGE    SOC_MOB_PH  -44.047687           44     3\n",
      "34       TRT_IND       TRT_DEC  -54.001123           54     4\n",
      "9         MH_SEX    SOC_MAR_ST  -54.862510           54     4\n",
      "18       TRT_DEC       TRT_LCA  -57.051260           57     4\n",
      "49       TRT_IND     MH_PMxPCI  -59.391114           59     4\n",
      "39        MH_HTN         MH_DM  -63.233343           63     4\n",
      "3    SOC_LIV_ALN      SOC_SUPP  -80.342778           80     4\n",
      "6        TRT_IND        TRT_EF  -81.092695           81     4\n",
      "31        MH_SMK       TRT_IND  -85.115587           85     4\n",
      "43        MH_AGE        MH_HTN  -95.746521           95     4\n",
      "10        MH_SEX       SOC_ALC -105.040487          105     5\n",
      "63        MH_SEX        MH_SMK -109.807905          109     5\n",
      "20       TRT_LCX       TRT_LAD -142.629612          142     5\n",
      "2         MH_AGE   SOC_SOC_MED -152.072099          152     5\n",
      "19        MH_AGE        MH_SMK -207.563589          207     6\n",
      "22       TRT_RCA       TRT_LAD -210.028672          210     6\n",
      "28       TRT_DEC       TRT_LAD -241.608179          241     6\n",
      "4     SOC_MAR_ST   SOC_LIV_ALN -404.419432          404     6\n",
      "40      MH_PMxMI     MH_PMxPCI -417.286795          417     6\n",
      "1         MH_AGE   SOC_ACT_EMP -490.992430          490     6\n"
     ]
    },
    {
     "data": {
      "image/png": "[encoded data removed]",
      "text/plain": [
       "plot without title"
      ]
     },
     "metadata": {
      "image/png": {
       "height": 420,
       "width": 420
      }
     },
     "output_type": "display_data"
    },
    {
     "data": {
      "image/png": "[encoded data removed]",
      "text/plain": [
       "plot without title"
      ]
     },
     "metadata": {
      "image/png": {
       "height": 420,
       "width": 420
      }
     },
     "output_type": "display_data"
    },
    {
     "data": {
      "image/png": "[encoded data removed]",
      "text/plain": [
       "plot without title"
      ]
     },
     "metadata": {
      "image/png": {
       "height": 420,
       "width": 420
      }
     },
     "output_type": "display_data"
    }
   ],
   "source": [
    "file <- \"DATA.csv\"\n",
    "target <- \"AMI\"\n",
    "predictor_prefixes <- c(\"MH\", \"TRT\", \"SOC\")\n",
    "n_iter <- 200\n",
    "threshold <- 50\n",
    "seed <- 1\n",
    "# Execute the analysis\n",
    "result_AMI <- perform_analysis(file, target, predictor_prefixes, n_iter, threshold, seed)"
   ]
  },
  {
   "cell_type": "code",
   "execution_count": 108,
   "metadata": {
    "vscode": {
     "languageId": "r"
    }
   },
   "outputs": [
    {
     "name": "stdout",
     "output_type": "stream",
     "text": [
      "$AMI\n",
      "AMI\n",
      "       0.0        1.0 \n",
      "0.93009051 0.06990949 \n",
      "\n",
      "$AMI\n",
      "AMI\n",
      "    0.0     1.0 \n",
      "0.88198 0.11802 \n",
      "\n"
     ]
    }
   ],
   "source": [
    "query19 <- querygrain(result_AMI$junction, nodes = c(\"AMI\"), evidence = list(MH_PMxPCI = \"0\"))\n",
    "print(query19)\n",
    "query20 <- querygrain(result_AMI$junction, nodes = c(\"AMI\"), evidence = list(MH_PMxPCI = \"1\"))\n",
    "print(query20)"
   ]
  },
  {
   "cell_type": "code",
   "execution_count": 109,
   "metadata": {
    "vscode": {
     "languageId": "r"
    }
   },
   "outputs": [
    {
     "name": "stdout",
     "output_type": "stream",
     "text": [
      "$AMI\n",
      "AMI\n",
      "       0.0        1.0 \n",
      "0.92784787 0.07215213 \n",
      "\n",
      "$AMI\n",
      "AMI\n",
      "      0.0       1.0 \n",
      "0.8711212 0.1288788 \n",
      "\n"
     ]
    }
   ],
   "source": [
    "query21 <- querygrain(result_AMI$junction, nodes = c(\"AMI\"), evidence = list(MH_PMxMI = \"0\"))\n",
    "print(query21)\n",
    "query22 <- querygrain(result_AMI$junction, nodes = c(\"AMI\"), evidence = list(MH_PMxMI = \"1\"))\n",
    "print(query22)"
   ]
  },
  {
   "cell_type": "code",
   "execution_count": 110,
   "metadata": {
    "vscode": {
     "languageId": "r"
    }
   },
   "outputs": [
    {
     "name": "stdout",
     "output_type": "stream",
     "text": [
      "$AMI\n",
      "AMI\n",
      "       0.0        1.0 \n",
      "0.92367045 0.07632955 \n",
      "\n",
      "$AMI\n",
      "AMI\n",
      "      0.0       1.0 \n",
      "0.8655044 0.1344956 \n",
      "\n"
     ]
    }
   ],
   "source": [
    "query23 <- querygrain(result_AMI$junction, nodes = c(\"AMI\"), evidence = list(MH_CKD = \"0\"))\n",
    "print(query23)\n",
    "query24 <- querygrain(result_AMI$junction, nodes = c(\"AMI\"), evidence = list(MH_CKD = \"1\"))\n",
    "print(query24)"
   ]
  },
  {
   "cell_type": "code",
   "execution_count": 112,
   "metadata": {
    "vscode": {
     "languageId": "r"
    }
   },
   "outputs": [
    {
     "data": {
      "text/html": [
       "319"
      ],
      "text/latex": [
       "319"
      ],
      "text/markdown": [
       "319"
      ],
      "text/plain": [
       "[1] 319"
      ]
     },
     "metadata": {},
     "output_type": "display_data"
    }
   ],
   "source": [
    "nparams(result_AMI$bn_fitted) # Number of parameters in the network"
   ]
  },
  {
   "cell_type": "code",
   "execution_count": 113,
   "metadata": {
    "vscode": {
     "languageId": "r"
    }
   },
   "outputs": [
    {
     "name": "stderr",
     "output_type": "stream",
     "text": [
      "Warning message in check.data(x, allow.missing = TRUE):\n",
      "\"variable MH_BMI in the data has levels that are not observed in the data.\"\n",
      "Warning message in check.data(x, allow.missing = TRUE):\n",
      "\"variable MH_BMI in the data has levels that are not observed in the data.\"\n"
     ]
    },
    {
     "name": "stdout",
     "output_type": "stream",
     "text": [
      "             from            to Freq\n",
      "1          MH_AGE   SOC_ACT_EMP  200\n",
      "2          MH_AGE   SOC_SOC_MED  200\n",
      "3     SOC_LIV_ALN      SOC_SUPP  200\n",
      "4      SOC_MAR_ST   SOC_LIV_ALN  199\n",
      "5          MH_SMK        SOC_EX  198\n",
      "6         TRT_IND        TRT_EF  198\n",
      "7          MH_AGE    SOC_MOB_PH  197\n",
      "8         TRT_IND       TRT_ACC  195\n",
      "9          MH_SEX    SOC_MAR_ST  194\n",
      "10         MH_SEX       SOC_ALC  192\n",
      "11         MH_HTN        MH_CKD  190\n",
      "12         MH_AGE       SOC_EDU  187\n",
      "13   SOC_WOR_TYPE       SOC_RES  187\n",
      "14        SOC_EDU  SOC_WOR_TYPE  185\n",
      "15         MH_AGE        MH_HGB  182\n",
      "16         MH_HTN        MH_DLP  180\n",
      "17         MH_AGE    SOC_MAR_ST  175\n",
      "18        TRT_DEC       TRT_LCA  169\n",
      "19         MH_AGE        MH_SMK  168\n",
      "20    SOC_ACT_EMP    HEMORRHAGE  167\n",
      "21     SOC_MOB_PH   SOC_SOC_MED  164\n",
      "22        TRT_LCX       TRT_LAD  164\n",
      "23        TRT_RCA       TRT_LAD  163\n",
      "24         MH_AGE        MH_CKD  162\n",
      "25         MH_AGE     MH_FHxIHD  162\n",
      "26        TRT_LAD        TRT_EF  162\n",
      "27         MH_HTN        MH_BMI  156\n",
      "28         MH_SEX        SOC_EX  154\n",
      "29        TRT_DEC       TRT_LAD  154\n",
      "30        TRT_LCA       TRT_LAD  151\n",
      "31         MH_AGE       SOC_ALC  149\n",
      "32         MH_SMK       TRT_IND  147\n",
      "33         MH_SEX       TRT_ACC  146\n",
      "34        TRT_DEC       TRT_LCX  146\n",
      "35        TRT_IND       TRT_DEC  143\n",
      "36         MH_CKD        MH_HGB  142\n",
      "37         MH_SEX        MH_HGB  140\n",
      "38   SOC_WOR_TYPE   SOC_ACT_EMP  138\n",
      "39         MH_SMK        MH_SEX  134\n",
      "40        TRT_DEC       TRT_RCA  134\n",
      "41         MH_HTN         MH_DM  133\n",
      "42       MH_PMxMI     MH_PMxPCI  133\n",
      "43      MH_PMxPCI        MH_DLP  133\n",
      "44         MH_SMK SOC_SALT_DIET  133\n",
      "45         MH_AGE        MH_HTN  129\n",
      "46      MH_PMxPCI       TRT_DEC  128\n",
      "47         MH_PAD        MH_STK  119\n",
      "48          MH_DM        MH_PAD  113\n",
      "49        TRT_LCX       TRT_RCA  108\n",
      "50  SOC_SALT_DIET     SOC_A_TRT  106\n",
      "51        TRT_IND     MH_PMxPCI  100\n",
      "52         MH_AGE        MH_STK   95\n",
      "53      MH_PMxPCI       TRT_IND   90\n",
      "54    SOC_ACT_EMP        MH_STK   90\n",
      "55      MH_PMxPCI SOC_SALT_DIET   82\n",
      "56        TRT_RCA       TRT_LCX   78\n",
      "57         MH_AGE       TRT_LCA   77\n",
      "58    SOC_ACT_EMP        SOC_EX   77\n",
      "59    SOC_ACT_EMP SOC_SALT_DIET   73\n",
      "60        SOC_EDU        MH_SEX   73\n",
      "61   SOC_WOR_TYPE    SOC_MOB_PH   73\n",
      "62         MH_CKD         MH_DM   72\n",
      "63         MH_HTN        MH_AGE   71\n",
      "64         MH_HGB         MH_DM   69\n",
      "65    SOC_ACT_EMP        MH_PAD   69\n",
      "66         MH_AGE        MH_SEX   68\n",
      "67         SOC_EX        MH_BMI   68\n",
      "68          MH_DM        MH_HTN   67\n",
      "69      MH_PMxPCI      MH_PMxMI   67\n",
      "70         MH_AGE SOC_SALT_DIET   66\n",
      "71         MH_SEX        MH_SMK   66\n",
      "72         MH_SEX       TRT_RCA   66\n",
      "73        TRT_IND      MH_PMxMI   66\n",
      "74      MH_PMxPCI        MH_PAD   63\n",
      "75     SOC_MOB_PH   SOC_LIV_ALN   60\n",
      "76         MH_SEX      SOC_SUPP   59\n",
      "77     SOC_MOB_PH  SOC_WOR_TYPE   59\n",
      "78         MH_SMK        MH_PAD   58\n",
      "79         MH_AGE       TRT_ACC   56\n",
      "80         MH_HGB        MH_CKD   54\n",
      "81        TRT_LCX       TRT_DEC   54\n",
      "82          MH_DM        MH_DLP   53\n",
      "83      MH_PMxPCI        MH_SMK   53\n",
      "84        SOC_EDU    SOC_MOB_PH   53\n",
      "85        TRT_DEC       TRT_IND   53\n",
      "86    SOC_ACT_EMP     SOC_A_TRT   51\n",
      "87        TRT_RCA       TRT_DEC   51\n",
      "88         MH_DLP     SOC_A_TRT   49\n",
      "89         MH_HGB        MH_PAD   49\n",
      "90    SOC_SOC_MED  SOC_WOR_TYPE   48\n",
      "91         MH_SMK     MH_PMxPCI   47\n",
      "92        TRT_LAD       TRT_DEC   46\n",
      "93         MH_HTN       TRT_LCA   43\n",
      "94         MH_SEX       SOC_EDU   43\n",
      "95        SOC_RES        MH_BMI   42\n",
      "96         MH_SEX     MH_FHxIHD   41\n",
      "97     SOC_MAR_ST       SOC_EDU   41\n",
      "98         MH_CKD        MH_PAD   40\n",
      "99    SOC_SOC_MED      SOC_SUPP   40\n",
      "100     MH_PMxPCI       TRT_RCA   38\n",
      "101        MH_BMI        MH_HTN   37\n",
      "102     SOC_A_TRT        MH_DLP   37\n",
      "103       TRT_LAD       TRT_RCA   37\n",
      "104   SOC_ACT_EMP       TRT_ACC   36\n",
      "105       SOC_ALC        MH_AGE   36\n",
      "106   SOC_SOC_MED    SOC_MOB_PH   36\n",
      "107       TRT_DEC     MH_PMxPCI   36\n",
      "108   SOC_SOC_MED        TRT_EF   35\n",
      "109       TRT_IND        MH_SMK   35\n",
      "110       TRT_DEC      MH_PMxMI   33\n",
      "111        TRT_EF       SOC_RES   33\n",
      "112        MH_SMK        MH_AGE   32\n",
      "113   SOC_ACT_EMP       SOC_RES   31\n",
      "114       TRT_IND        MH_DLP   31\n",
      "115       TRT_LAD       TRT_LCX   31\n",
      "116       TRT_LCA       TRT_DEC   31\n",
      "117     MH_PMxPCI       TRT_LCX   30\n",
      "118        MH_AGE       SOC_RES   29\n",
      "119        MH_AGE    HEMORRHAGE   28\n",
      "120        MH_AGE        MH_PAD   28\n",
      "121      MH_PMxMI     SOC_A_TRT   26\n",
      "122     MH_PMxPCI        MH_HTN   26\n",
      "123   SOC_ACT_EMP  SOC_WOR_TYPE   26\n",
      "124  SOC_WOR_TYPE   SOC_SOC_MED   26\n",
      "125        MH_CKD        MH_STK   25\n",
      "126        MH_DLP     MH_FHxIHD   25\n",
      "127        MH_PAD      MH_PMxMI   25\n",
      "128        MH_SEX        MH_AGE   25\n",
      "129        MH_SMK      MH_PMxMI   25\n",
      "130   SOC_ACT_EMP         MH_DM   25\n",
      "131         MH_DM        MH_CKD   24\n",
      "132     MH_PMxPCI     SOC_A_TRT   24\n",
      "133    SOC_MOB_PH       SOC_EDU   23\n",
      "134       TRT_IND SOC_SALT_DIET   23\n",
      "135       TRT_LAD     MH_PMxPCI   23\n",
      "136        MH_PAD         MH_DM   22\n",
      "137        MH_HGB     MH_FHxIHD   21\n",
      "138        MH_PAD     MH_PMxPCI   21\n",
      "139        MH_STK        MH_PAD   21\n",
      "140   SOC_ACT_EMP     MH_PMxPCI   21\n",
      "141       TRT_IND        MH_HTN   21\n",
      "142        MH_DLP        MH_PAD   20\n",
      "143        MH_PAD        MH_DLP   20\n",
      "144 SOC_SALT_DIET      MH_PMxMI   20\n",
      "145        TRT_EF    HEMORRHAGE   20\n",
      "146        MH_PAD        MH_SMK   19\n",
      "147   SOC_ACT_EMP   SOC_LIV_ALN   19\n",
      "148        MH_DLP        MH_HTN   18\n",
      "149      MH_PMxMI        TRT_EF   18\n",
      "150       TRT_ACC        MH_SEX   18\n",
      "151       TRT_LCA       TRT_LCX   18\n",
      "152         MH_DM        MH_AGE   17\n",
      "153        MH_HTN      MH_PMxMI   17\n",
      "154        MH_HTN SOC_SALT_DIET   17\n",
      "155        MH_SEX     SOC_A_TRT   17\n",
      "156   SOC_ACT_EMP        MH_HGB   17\n",
      "157       SOC_ALC SOC_SALT_DIET   17\n",
      "158       TRT_ACC  SOC_WOR_TYPE   17\n",
      "159         MH_DM        SOC_EX   16\n",
      "160   SOC_ACT_EMP       SOC_ALC   15\n",
      "161        SOC_EX     SOC_A_TRT   15\n",
      "162       TRT_RCA        MH_SEX   15\n",
      "163     MH_FHxIHD        MH_AGE   14\n",
      "164        MH_HGB   SOC_ACT_EMP   14\n",
      "165        MH_HGB       TRT_LCX   14\n",
      "166        MH_HTN        MH_PAD   14\n",
      "167        MH_HTN       TRT_IND   14\n",
      "168        SOC_EX    HEMORRHAGE   14\n",
      "169 SOC_SALT_DIET       TRT_IND   14\n",
      "170  SOC_WOR_TYPE       SOC_EDU   14\n",
      "171        MH_AGE        MH_BMI   13\n",
      "172        MH_CKD        MH_AGE   13\n",
      "173        MH_CKD       TRT_ACC   13\n",
      "174        MH_DLP       TRT_IND   13\n",
      "175        MH_SMK     SOC_A_TRT   13\n",
      "176        MH_SMK       TRT_RCA   13\n",
      "177   SOC_ACT_EMP       TRT_LCA   13\n",
      "178    SOC_MAR_ST      SOC_SUPP   13\n",
      "179       TRT_LAD      MH_PMxMI   13\n",
      "180        MH_HGB      SOC_SUPP   12\n",
      "181        MH_HGB  SOC_WOR_TYPE   12\n",
      "182        MH_SEX   SOC_LIV_ALN   12\n",
      "183   SOC_ACT_EMP     MH_FHxIHD   12\n",
      "184       SOC_EDU   SOC_LIV_ALN   12\n",
      "185       SOC_RES  SOC_WOR_TYPE   12\n",
      "186 SOC_SALT_DIET    HEMORRHAGE   12\n",
      "187   SOC_SOC_MED     MH_FHxIHD   12\n",
      "188        MH_HGB       TRT_LCA   11\n",
      "189        MH_HTN     MH_PMxPCI   11\n",
      "190      MH_PMxMI       TRT_IND   11\n",
      "191        MH_SEX        MH_PAD   11\n",
      "192        SOC_EX    SOC_MAR_ST   11\n",
      "193  SOC_WOR_TYPE        MH_SEX   11\n",
      "194        MH_CKD        MH_HTN   10\n",
      "195        MH_HGB        MH_SEX   10\n",
      "196        MH_HGB     SOC_A_TRT   10\n",
      "197        MH_HTN        MH_SMK   10\n",
      "198     MH_PMxPCI   SOC_ACT_EMP   10\n",
      "199     SOC_A_TRT  SOC_WOR_TYPE   10\n",
      "200       SOC_ALC      SOC_SUPP   10\n",
      "201    SOC_MOB_PH     MH_FHxIHD   10\n",
      "202   SOC_SOC_MED       SOC_EDU   10\n",
      "203  SOC_WOR_TYPE        MH_SMK   10\n",
      "204        TRT_EF       TRT_RCA   10\n",
      "205       TRT_LCX         MH_DM   10\n",
      "206       TRT_LCX       TRT_LCA   10\n",
      "207        MH_AGE      MH_PMxMI    9\n",
      "208        MH_BMI       SOC_RES    9\n",
      "209         MH_DM    HEMORRHAGE    9\n",
      "210        MH_STK     SOC_A_TRT    9\n",
      "211   SOC_ACT_EMP      MH_PMxMI    9\n",
      "212   SOC_LIV_ALN  SOC_WOR_TYPE    9\n",
      "213    SOC_MAR_ST  SOC_WOR_TYPE    9\n",
      "214       TRT_ACC      MH_PMxMI    9\n",
      "215        TRT_EF        MH_DLP    9\n",
      "216        MH_CKD     SOC_A_TRT    8\n",
      "217        MH_DLP      MH_PMxMI    8\n",
      "218        MH_DLP        MH_STK    8\n",
      "219         MH_DM        MH_HGB    8\n",
      "220         MH_DM        TRT_EF    8\n",
      "221        MH_HTN        MH_STK    8\n",
      "222      MH_PMxMI SOC_SALT_DIET    8\n",
      "223        MH_SEX        MH_BMI    8\n",
      "224        MH_SMK    SOC_MAR_ST    8\n",
      "225     SOC_A_TRT    HEMORRHAGE    8\n",
      "226       SOC_ALC        MH_SEX    8\n",
      "227 SOC_SALT_DIET     MH_PMxPCI    8\n",
      "228  SOC_WOR_TYPE        MH_BMI    8\n",
      "229       TRT_ACC       TRT_LCA    8\n",
      "230        TRT_EF     SOC_A_TRT    8\n",
      "231       TRT_LCA        MH_AGE    8\n",
      "232        MH_CKD       TRT_LCA    7\n",
      "233        MH_DLP         MH_DM    7\n",
      "234        MH_DLP     MH_PMxPCI    7\n",
      "235        MH_DLP       SOC_RES    7\n",
      "236        MH_HGB       TRT_ACC    7\n",
      "237        MH_PAD        MH_HGB    7\n",
      "238      MH_PMxMI        MH_PAD    7\n",
      "239        SOC_EX     MH_FHxIHD    7\n",
      "240        SOC_EX   SOC_ACT_EMP    7\n",
      "241        TRT_EF     MH_FHxIHD    7\n",
      "242       TRT_IND       TRT_LCX    7\n",
      "243       TRT_LAD        MH_DLP    7\n",
      "244       TRT_LCA       TRT_RCA    7\n",
      "245    HEMORRHAGE     SOC_A_TRT    6\n",
      "246    HEMORRHAGE   SOC_LIV_ALN    6\n",
      "247        MH_CKD     MH_PMxPCI    6\n",
      "248        MH_DLP       TRT_RCA    6\n",
      "249     MH_PMxPCI     MH_FHxIHD    6\n",
      "250        MH_SMK        MH_HTN    6\n",
      "251   SOC_ACT_EMP        MH_CKD    6\n",
      "252   SOC_ACT_EMP       SOC_EDU    6\n",
      "253    SOC_MAR_ST        MH_SEX    6\n",
      "254   SOC_SOC_MED       SOC_RES    6\n",
      "255       TRT_ACC       SOC_RES    6\n",
      "256        MH_CKD   SOC_ACT_EMP    5\n",
      "257         MH_DM        MH_BMI    5\n",
      "258         MH_DM       TRT_LCX    5\n",
      "259        MH_HGB    HEMORRHAGE    5\n",
      "260        MH_HTN       SOC_RES    5\n",
      "261        MH_HTN      SOC_SUPP    5\n",
      "262        MH_SEX  SOC_WOR_TYPE    5\n",
      "263        MH_SEX       TRT_LCX    5\n",
      "264        MH_SMK       TRT_LAD    5\n",
      "265   SOC_ACT_EMP    SOC_MOB_PH    5\n",
      "266       SOC_EDU   SOC_ACT_EMP    5\n",
      "267   SOC_SOC_MED SOC_SALT_DIET    5\n",
      "268       TRT_ACC        MH_AGE    5\n",
      "269       TRT_ACC       TRT_IND    5\n",
      "270        TRT_EF      MH_PMxMI    5\n",
      "271       TRT_LCA       TRT_ACC    5\n",
      "272    HEMORRHAGE       TRT_LCX    4\n",
      "273        MH_CKD    HEMORRHAGE    4\n",
      "274        MH_CKD       TRT_IND    4\n",
      "275        MH_DLP      SOC_SUPP    4\n",
      "276         MH_DM      MH_PMxMI    4\n",
      "277         MH_DM        MH_STK    4\n",
      "278     MH_FHxIHD        MH_DLP    4\n",
      "279     MH_FHxIHD        MH_HTN    4\n",
      "280        MH_HTN     SOC_A_TRT    4\n",
      "281        MH_HTN   SOC_ACT_EMP    4\n",
      "282        MH_HTN       TRT_RCA    4\n",
      "283        MH_PAD        TRT_EF    4\n",
      "284     MH_PMxPCI         MH_DM    4\n",
      "285     MH_PMxPCI       SOC_RES    4\n",
      "286        MH_STK        MH_DLP    4\n",
      "287   SOC_ACT_EMP      SOC_SUPP    4\n",
      "288       SOC_EDU        MH_STK    4\n",
      "289        SOC_EX  SOC_WOR_TYPE    4\n",
      "290    SOC_MOB_PH     SOC_A_TRT    4\n",
      "291    SOC_MOB_PH       SOC_RES    4\n",
      "292       SOC_RES        MH_STK    4\n",
      "293 SOC_SALT_DIET       TRT_LCA    4\n",
      "294   SOC_SOC_MED   SOC_ACT_EMP    4\n",
      "295       TRT_DEC     SOC_A_TRT    4\n",
      "296       TRT_IND       TRT_LCA    4\n",
      "297    HEMORRHAGE     MH_FHxIHD    3\n",
      "298        MH_CKD        MH_SEX    3\n",
      "299        MH_DLP    HEMORRHAGE    3\n",
      "300         MH_DM        MH_SEX    3\n",
      "301         MH_DM        MH_SMK    3\n",
      "302         MH_DM    SOC_MAR_ST    3\n",
      "303     MH_FHxIHD    HEMORRHAGE    3\n",
      "304     MH_FHxIHD     SOC_A_TRT    3\n",
      "305     MH_FHxIHD       SOC_RES    3\n",
      "306        MH_HGB        MH_AGE    3\n",
      "307        MH_HTN     MH_FHxIHD    3\n",
      "308        MH_HTN        MH_HGB    3\n",
      "309        MH_HTN        SOC_EX    3\n",
      "310        MH_PAD SOC_SALT_DIET    3\n",
      "311      MH_PMxMI        MH_DLP    3\n",
      "312      MH_PMxMI       SOC_RES    3\n",
      "313     MH_PMxPCI       TRT_LAD    3\n",
      "314        MH_SMK       TRT_LCA    3\n",
      "315   SOC_ACT_EMP   SOC_SOC_MED    3\n",
      "316   SOC_ACT_EMP       TRT_LAD    3\n",
      "317   SOC_ACT_EMP       TRT_LCX    3\n",
      "318   SOC_ACT_EMP       TRT_RCA    3\n",
      "319       SOC_ALC   SOC_LIV_ALN    3\n",
      "320       SOC_ALC  SOC_WOR_TYPE    3\n",
      "321    SOC_MOB_PH    HEMORRHAGE    3\n",
      "322    SOC_MOB_PH        MH_BMI    3\n",
      "323       SOC_RES    SOC_MOB_PH    3\n",
      "324 SOC_SALT_DIET       TRT_DEC    3\n",
      "325   SOC_SOC_MED      MH_PMxMI    3\n",
      "326   SOC_SOC_MED       TRT_ACC    3\n",
      "327  SOC_WOR_TYPE    SOC_MAR_ST    3\n",
      "328       TRT_ACC        MH_PAD    3\n",
      "329       TRT_ACC   SOC_LIV_ALN    3\n",
      "330        TRT_EF   SOC_LIV_ALN    3\n",
      "331       TRT_IND        MH_AGE    3\n",
      "332       TRT_IND       TRT_RCA    3\n",
      "333       TRT_LAD SOC_SALT_DIET    3\n",
      "334       TRT_LCA    HEMORRHAGE    3\n",
      "335       TRT_LCA        MH_HTN    3\n",
      "336       TRT_LCA    SOC_MAR_ST    3\n",
      "337       TRT_RCA     MH_PMxPCI    3\n",
      "338       TRT_RCA       TRT_LCA    3\n",
      "339        MH_AGE         MH_DM    2\n",
      "340        MH_AGE     SOC_A_TRT    2\n",
      "341        MH_BMI        SOC_EX    2\n",
      "342        MH_CKD      MH_PMxMI    2\n",
      "343        MH_CKD    SOC_MAR_ST    2\n",
      "344        MH_CKD       TRT_RCA    2\n",
      "345        MH_DLP       TRT_LCX    2\n",
      "346         MH_DM     MH_PMxPCI    2\n",
      "347         MH_DM       SOC_RES    2\n",
      "348         MH_DM      SOC_SUPP    2\n",
      "349     MH_FHxIHD   SOC_ACT_EMP    2\n",
      "350     MH_FHxIHD    SOC_MOB_PH    2\n",
      "351     MH_FHxIHD        TRT_EF    2\n",
      "352        MH_PAD     SOC_A_TRT    2\n",
      "353        MH_PAD       TRT_RCA    2\n",
      "354      MH_PMxMI        MH_HTN    2\n",
      "355      MH_PMxMI       TRT_DEC    2\n",
      "356      MH_PMxMI       TRT_LAD    2\n",
      "357      MH_PMxMI       TRT_RCA    2\n",
      "358        MH_SEX    SOC_MOB_PH    2\n",
      "359        MH_SEX       SOC_RES    2\n",
      "360        MH_SEX SOC_SALT_DIET    2\n",
      "361        MH_SMK    SOC_MOB_PH    2\n",
      "362        MH_STK       SOC_RES    2\n",
      "363     SOC_A_TRT       SOC_RES    2\n",
      "364   SOC_ACT_EMP        MH_HTN    2\n",
      "365       SOC_EDU        MH_AGE    2\n",
      "366       SOC_EDU    SOC_MAR_ST    2\n",
      "367        SOC_EX         MH_DM    2\n",
      "368        SOC_EX        MH_STK    2\n",
      "369   SOC_LIV_ALN    SOC_MOB_PH    2\n",
      "370    SOC_MAR_ST        MH_DLP    2\n",
      "371    SOC_MOB_PH        MH_CKD    2\n",
      "372    SOC_MOB_PH        MH_SEX    2\n",
      "373       SOC_RES    HEMORRHAGE    2\n",
      "374       SOC_RES    SOC_MAR_ST    2\n",
      "375 SOC_SALT_DIET        MH_HTN    2\n",
      "376 SOC_SALT_DIET        MH_SEX    2\n",
      "377 SOC_SALT_DIET      SOC_SUPP    2\n",
      "378   SOC_SOC_MED        MH_BMI    2\n",
      "379   SOC_SOC_MED        MH_CKD    2\n",
      "380  SOC_WOR_TYPE        MH_HGB    2\n",
      "381  SOC_WOR_TYPE       SOC_ALC    2\n",
      "382  SOC_WOR_TYPE       TRT_LAD    2\n",
      "383       TRT_ACC   SOC_ACT_EMP    2\n",
      "384       TRT_DEC SOC_SALT_DIET    2\n",
      "385        TRT_EF      SOC_SUPP    2\n",
      "386        TRT_EF       TRT_IND    2\n",
      "387       TRT_LAD        MH_BMI    2\n",
      "388       TRT_LAD         MH_DM    2\n",
      "389       TRT_LCX        MH_SEX    2\n",
      "390       TRT_LCX      SOC_SUPP    2\n",
      "391       TRT_RCA        MH_DLP    2\n",
      "392       TRT_RCA   SOC_LIV_ALN    2\n",
      "393       TRT_RCA        TRT_EF    2\n",
      "394    HEMORRHAGE        MH_AGE    1\n",
      "395    HEMORRHAGE        MH_DLP    1\n",
      "396    HEMORRHAGE        MH_HGB    1\n",
      "397        MH_AGE     MH_PMxPCI    1\n",
      "398        MH_AGE        SOC_EX    1\n",
      "399        MH_AGE   SOC_LIV_ALN    1\n",
      "400        MH_AGE      SOC_SUPP    1\n",
      "401        MH_AGE        TRT_EF    1\n",
      "402        MH_AGE       TRT_LAD    1\n",
      "403        MH_AGE       TRT_LCX    1\n",
      "404        MH_CKD       SOC_RES    1\n",
      "405        MH_CKD   SOC_SOC_MED    1\n",
      "406        MH_CKD      SOC_SUPP    1\n",
      "407        MH_CKD       TRT_LCX    1\n",
      "408        MH_DLP        MH_AGE    1\n",
      "409        MH_DLP    SOC_MOB_PH    1\n",
      "410         MH_DM   SOC_ACT_EMP    1\n",
      "411         MH_DM   SOC_LIV_ALN    1\n",
      "412         MH_DM    SOC_MOB_PH    1\n",
      "413         MH_DM  SOC_WOR_TYPE    1\n",
      "414         MH_DM       TRT_ACC    1\n",
      "415         MH_DM       TRT_LAD    1\n",
      "416         MH_DM       TRT_RCA    1\n",
      "417     MH_FHxIHD         MH_DM    1\n",
      "418     MH_FHxIHD        MH_SMK    1\n",
      "419     MH_FHxIHD        MH_STK    1\n",
      "420     MH_FHxIHD   SOC_LIV_ALN    1\n",
      "421     MH_FHxIHD    SOC_MAR_ST    1\n",
      "422     MH_FHxIHD   SOC_SOC_MED    1\n",
      "423     MH_FHxIHD       TRT_IND    1\n",
      "424        MH_HGB     MH_PMxPCI    1\n",
      "425        MH_HGB        MH_SMK    1\n",
      "426        MH_HGB        MH_STK    1\n",
      "427        MH_HGB        TRT_EF    1\n",
      "428        MH_HGB       TRT_RCA    1\n",
      "429        MH_HTN        MH_SEX    1\n",
      "430        MH_HTN       TRT_DEC    1\n",
      "431        MH_HTN       TRT_LAD    1\n",
      "432        MH_PAD        MH_SEX    1\n",
      "433        MH_PAD        SOC_EX    1\n",
      "434        MH_PAD   SOC_LIV_ALN    1\n",
      "435        MH_PAD       TRT_ACC    1\n",
      "436        MH_PAD       TRT_IND    1\n",
      "437        MH_PAD       TRT_LAD    1\n",
      "438      MH_PMxMI     MH_FHxIHD    1\n",
      "439      MH_PMxMI        MH_SMK    1\n",
      "440      MH_PMxMI       SOC_EDU    1\n",
      "441      MH_PMxMI       TRT_LCX    1\n",
      "442     MH_PMxPCI        MH_SEX    1\n",
      "443     MH_PMxPCI        MH_STK    1\n",
      "444     MH_PMxPCI      SOC_SUPP    1\n",
      "445     MH_PMxPCI  SOC_WOR_TYPE    1\n",
      "446     MH_PMxPCI       TRT_LCA    1\n",
      "447        MH_SEX    HEMORRHAGE    1\n",
      "448        MH_SEX      MH_PMxMI    1\n",
      "449        MH_SEX     MH_PMxPCI    1\n",
      "450        MH_SEX       TRT_DEC    1\n",
      "451        MH_SMK         MH_DM    1\n",
      "452        MH_SMK     MH_FHxIHD    1\n",
      "453        MH_STK        MH_AGE    1\n",
      "454        MH_STK     MH_FHxIHD    1\n",
      "455        MH_STK       SOC_EDU    1\n",
      "456        MH_STK      SOC_SUPP    1\n",
      "457        MH_STK       TRT_RCA    1\n",
      "458     SOC_A_TRT     MH_PMxPCI    1\n",
      "459     SOC_A_TRT        MH_SMK    1\n",
      "460     SOC_A_TRT    SOC_MAR_ST    1\n",
      "461     SOC_A_TRT       TRT_LCX    1\n",
      "462       SOC_ALC         MH_DM    1\n",
      "463       SOC_ALC     SOC_A_TRT    1\n",
      "464       SOC_ALC       SOC_EDU    1\n",
      "465       SOC_EDU    HEMORRHAGE    1\n",
      "466       SOC_EDU      MH_PMxMI    1\n",
      "467       SOC_EDU   SOC_SOC_MED    1\n",
      "468        SOC_EX      MH_PMxMI    1\n",
      "469        SOC_EX        MH_SEX    1\n",
      "470        SOC_EX   SOC_LIV_ALN    1\n",
      "471        SOC_EX       TRT_LCX    1\n",
      "472   SOC_LIV_ALN     MH_FHxIHD    1\n",
      "473   SOC_LIV_ALN        MH_STK    1\n",
      "474   SOC_LIV_ALN    SOC_MAR_ST    1\n",
      "475   SOC_LIV_ALN       SOC_RES    1\n",
      "476   SOC_LIV_ALN        TRT_EF    1\n",
      "477    SOC_MAR_ST        MH_BMI    1\n",
      "478    SOC_MAR_ST         MH_DM    1\n",
      "479    SOC_MAR_ST        MH_STK    1\n",
      "480    SOC_MAR_ST       TRT_LCX    1\n",
      "481    SOC_MOB_PH        MH_PAD    1\n",
      "482    SOC_MOB_PH        MH_SMK    1\n",
      "483    SOC_MOB_PH        MH_STK    1\n",
      "484    SOC_MOB_PH   SOC_ACT_EMP    1\n",
      "485    SOC_MOB_PH SOC_SALT_DIET    1\n",
      "486       SOC_RES      MH_PMxMI    1\n",
      "487 SOC_SALT_DIET        MH_CKD    1\n",
      "488 SOC_SALT_DIET        MH_DLP    1\n",
      "489 SOC_SALT_DIET   SOC_ACT_EMP    1\n",
      "490 SOC_SALT_DIET       SOC_ALC    1\n",
      "491 SOC_SALT_DIET   SOC_LIV_ALN    1\n",
      "492 SOC_SALT_DIET    SOC_MAR_ST    1\n",
      "493   SOC_SOC_MED        MH_SEX    1\n",
      "494   SOC_SOC_MED     SOC_A_TRT    1\n",
      "495   SOC_SOC_MED        SOC_EX    1\n",
      "496   SOC_SOC_MED    SOC_MAR_ST    1\n",
      "497   SOC_SOC_MED       TRT_RCA    1\n",
      "498      SOC_SUPP        MH_CKD    1\n",
      "499      SOC_SUPP     MH_FHxIHD    1\n",
      "500      SOC_SUPP        MH_HGB    1\n",
      "501      SOC_SUPP     SOC_A_TRT    1\n",
      "502      SOC_SUPP   SOC_ACT_EMP    1\n",
      "503      SOC_SUPP       SOC_RES    1\n",
      "504      SOC_SUPP  SOC_WOR_TYPE    1\n",
      "505  SOC_WOR_TYPE    HEMORRHAGE    1\n",
      "506  SOC_WOR_TYPE      MH_PMxMI    1\n",
      "507  SOC_WOR_TYPE     MH_PMxPCI    1\n",
      "508  SOC_WOR_TYPE        MH_STK    1\n",
      "509  SOC_WOR_TYPE     SOC_A_TRT    1\n",
      "510  SOC_WOR_TYPE        SOC_EX    1\n",
      "511       TRT_ACC        MH_STK    1\n",
      "512       TRT_ACC        SOC_EX    1\n",
      "513       TRT_ACC    SOC_MAR_ST    1\n",
      "514       TRT_ACC      SOC_SUPP    1\n",
      "515       TRT_ACC        TRT_EF    1\n",
      "516       TRT_DEC        MH_HTN    1\n",
      "517       TRT_DEC   SOC_LIV_ALN    1\n",
      "518        TRT_EF         MH_DM    1\n",
      "519        TRT_EF       TRT_LCA    1\n",
      "520        TRT_EF       TRT_LCX    1\n",
      "521       TRT_IND         MH_DM    1\n",
      "522       TRT_IND    SOC_MOB_PH    1\n",
      "523       TRT_IND      SOC_SUPP    1\n",
      "524       TRT_LAD       SOC_EDU    1\n",
      "525       TRT_LAD       SOC_RES    1\n",
      "526       TRT_LAD  SOC_WOR_TYPE    1\n",
      "527       TRT_LCA        MH_SMK    1\n",
      "528       TRT_LCA     SOC_A_TRT    1\n",
      "529       TRT_LCA       TRT_IND    1\n",
      "530       TRT_LCX    HEMORRHAGE    1\n",
      "531       TRT_LCX        MH_AGE    1\n",
      "532       TRT_LCX     MH_FHxIHD    1\n",
      "533       TRT_LCX        MH_HTN    1\n",
      "534       TRT_LCX      MH_PMxMI    1\n",
      "535       TRT_LCX     MH_PMxPCI    1\n",
      "536       TRT_LCX        MH_STK    1\n",
      "537       TRT_LCX     SOC_A_TRT    1\n",
      "538       TRT_LCX   SOC_ACT_EMP    1\n",
      "539       TRT_LCX       SOC_RES    1\n",
      "540       TRT_LCX  SOC_WOR_TYPE    1\n",
      "541       TRT_LCX       TRT_IND    1\n",
      "542       TRT_RCA    HEMORRHAGE    1\n",
      "543       TRT_RCA         MH_DM    1\n",
      "544       TRT_RCA     MH_FHxIHD    1\n",
      "545       TRT_RCA        MH_HGB    1\n",
      "546       TRT_RCA       SOC_RES    1\n",
      "      from           to            \n",
      " [1,] \"MH_AGE\"       \"SOC_ACT_EMP\" \n",
      " [2,] \"MH_AGE\"       \"SOC_SOC_MED\" \n",
      " [3,] \"SOC_LIV_ALN\"  \"SOC_SUPP\"    \n",
      " [4,] \"SOC_MAR_ST\"   \"SOC_LIV_ALN\" \n",
      " [5,] \"MH_SMK\"       \"SOC_EX\"      \n",
      " [6,] \"TRT_IND\"      \"TRT_EF\"      \n",
      " [7,] \"MH_AGE\"       \"SOC_MOB_PH\"  \n",
      " [8,] \"TRT_IND\"      \"TRT_ACC\"     \n",
      " [9,] \"MH_SEX\"       \"SOC_MAR_ST\"  \n",
      "[10,] \"MH_SEX\"       \"SOC_ALC\"     \n",
      "[11,] \"MH_HTN\"       \"MH_CKD\"      \n",
      "[12,] \"MH_AGE\"       \"SOC_EDU\"     \n",
      "[13,] \"SOC_WOR_TYPE\" \"SOC_RES\"     \n",
      "[14,] \"SOC_EDU\"      \"SOC_WOR_TYPE\"\n",
      "[15,] \"MH_AGE\"       \"MH_HGB\"      \n",
      "[16,] \"MH_HTN\"       \"MH_DLP\"      \n",
      "[17,] \"MH_AGE\"       \"SOC_MAR_ST\"  \n",
      "[18,] \"TRT_DEC\"      \"TRT_LCA\"     \n",
      "[19,] \"MH_AGE\"       \"MH_SMK\"      \n",
      "[20,] \"SOC_ACT_EMP\"  \"HEMORRHAGE\"  \n",
      "[21,] \"SOC_MOB_PH\"   \"SOC_SOC_MED\" \n",
      "[22,] \"TRT_LCX\"      \"TRT_LAD\"     \n",
      "[23,] \"TRT_RCA\"      \"TRT_LAD\"     \n",
      "[24,] \"MH_AGE\"       \"MH_CKD\"      \n",
      "[25,] \"MH_AGE\"       \"MH_FHxIHD\"   \n",
      "[26,] \"TRT_LAD\"      \"TRT_EF\"      \n",
      "[27,] \"MH_HTN\"       \"MH_BMI\"      \n",
      "[28,] \"MH_SEX\"       \"SOC_EX\"      \n",
      "[29,] \"TRT_DEC\"      \"TRT_LAD\"     \n",
      "[30,] \"TRT_LCA\"      \"TRT_LAD\"     \n",
      "[1] 113\n",
      "[1] \"[MH_AGE][TRT_IND][MH_SEX][MH_HTN][TRT_DEC][TRT_LCX][TRT_RCA][SOC_MAR_ST|MH_AGE:MH_SEX][MH_SMK|MH_AGE][SOC_EDU|MH_AGE][SOC_ACT_EMP|MH_AGE][SOC_MOB_PH|MH_AGE][TRT_LCA|TRT_DEC][TRT_ACC|TRT_IND][SOC_ALC|MH_SEX][MH_CKD|MH_AGE:MH_HTN][MH_HGB|MH_AGE][MH_DLP|MH_HTN][MH_FHxIHD|MH_AGE][MH_BMI|MH_HTN][SOC_LIV_ALN|SOC_MAR_ST][SOC_WOR_TYPE|SOC_EDU][TRT_LAD|TRT_DEC:TRT_LCX:TRT_RCA:TRT_LCA][SOC_SOC_MED|MH_AGE:SOC_MOB_PH][SOC_EX|MH_SMK:MH_SEX][HEMORRHAGE|SOC_ACT_EMP][SOC_SUPP|SOC_LIV_ALN][TRT_EF|TRT_IND:TRT_LAD][SOC_RES|SOC_WOR_TYPE]\"\n",
      "[1] \"Ordered by strength:\"\n",
      "           from           to    strength abs_strength width\n",
      "26      TRT_LAD       TRT_EF   -9.238801            9     1\n",
      "28       MH_SEX       SOC_EX   -9.306645            9     1\n",
      "20  SOC_ACT_EMP   HEMORRHAGE   -9.691784            9     1\n",
      "17       MH_AGE   SOC_MAR_ST  -14.632849           14     2\n",
      "30      TRT_LCA      TRT_LAD  -16.031991           16     2\n",
      "25       MH_AGE    MH_FHxIHD  -17.381914           17     2\n",
      "13 SOC_WOR_TYPE      SOC_RES  -21.168044           21     3\n",
      "21   SOC_MOB_PH  SOC_SOC_MED  -23.434814           23     3\n",
      "27       MH_HTN       MH_BMI  -23.986150           23     3\n",
      "24       MH_AGE       MH_CKD  -30.141683           30     3\n",
      "11       MH_HTN       MH_CKD  -33.663355           33     3\n",
      "14      SOC_EDU SOC_WOR_TYPE  -38.124089           38     3\n",
      "16       MH_HTN       MH_DLP  -39.365560           39     3\n",
      "12       MH_AGE      SOC_EDU  -41.921617           41     3\n",
      "5        MH_SMK       SOC_EX  -44.598849           44     3\n",
      "9        MH_SEX   SOC_MAR_ST  -54.862510           54     4\n",
      "15       MH_AGE       MH_HGB  -56.381929           56     4\n",
      "8       TRT_IND      TRT_ACC  -62.736906           62     4\n",
      "18      TRT_DEC      TRT_LCA  -67.876027           67     4\n",
      "3   SOC_LIV_ALN     SOC_SUPP  -79.797254           79     4\n",
      "6       TRT_IND       TRT_EF  -81.092695           81     4\n",
      "7        MH_AGE   SOC_MOB_PH  -82.414612           82     4\n",
      "10       MH_SEX      SOC_ALC -120.662571          120     5\n",
      "22      TRT_LCX      TRT_LAD -142.629612          142     5\n",
      "2        MH_AGE  SOC_SOC_MED -152.072099          152     5\n",
      "23      TRT_RCA      TRT_LAD -210.028672          210     6\n",
      "19       MH_AGE       MH_SMK -212.751664          212     6\n",
      "29      TRT_DEC      TRT_LAD -241.608179          241     6\n",
      "4    SOC_MAR_ST  SOC_LIV_ALN -405.001224          405     6\n",
      "1        MH_AGE  SOC_ACT_EMP -498.482094          498     6\n"
     ]
    },
    {
     "data": {
      "image/png": "[encoded data removed]",
      "text/plain": [
       "plot without title"
      ]
     },
     "metadata": {
      "image/png": {
       "height": 420,
       "width": 420
      }
     },
     "output_type": "display_data"
    },
    {
     "data": {
      "image/png": "[encoded data removed]",
      "text/plain": [
       "plot without title"
      ]
     },
     "metadata": {
      "image/png": {
       "height": 420,
       "width": 420
      }
     },
     "output_type": "display_data"
    }
   ],
   "source": [
    "file <- \"DATA.csv\"\n",
    "target <- \"HEMORRHAGE\"\n",
    "predictor_prefixes <- c(\"MH\", \"TRT\", \"SOC\")\n",
    "n_iter <- 200\n",
    "threshold <- 150\n",
    "seed <- 1\n",
    "# Execute the analysis\n",
    "result_HEMORRHAGE <- perform_analysis(file, target, predictor_prefixes, n_iter, threshold, seed)"
   ]
  },
  {
   "cell_type": "code",
   "execution_count": 115,
   "metadata": {
    "vscode": {
     "languageId": "r"
    }
   },
   "outputs": [
    {
     "name": "stdout",
     "output_type": "stream",
     "text": [
      "$HEMORRHAGE\n",
      "HEMORRHAGE\n",
      "     0.0      1.0 \n",
      "0.931875 0.068125 \n",
      "\n"
     ]
    },
    {
     "name": "stdout",
     "output_type": "stream",
     "text": [
      "$HEMORRHAGE\n",
      "HEMORRHAGE\n",
      "       0.0        1.0 \n",
      "0.91688126 0.08311874 \n",
      "\n"
     ]
    }
   ],
   "source": [
    "query25 <- querygrain(result_HEMORRHAGE$junction, nodes = c(\"HEMORRHAGE\"), evidence = list(SOC_ACT_EMP = \"1\"))\n",
    "print(query25)\n",
    "query26 <- querygrain(result_HEMORRHAGE$junction, nodes = c(\"HEMORRHAGE\"), evidence = list(SOC_ACT_EMP = \"2\"))\n",
    "print(query26)"
   ]
  },
  {
   "cell_type": "code",
   "execution_count": 116,
   "metadata": {
    "vscode": {
     "languageId": "r"
    }
   },
   "outputs": [
    {
     "data": {
      "text/html": [
       "113"
      ],
      "text/latex": [
       "113"
      ],
      "text/markdown": [
       "113"
      ],
      "text/plain": [
       "[1] 113"
      ]
     },
     "metadata": {},
     "output_type": "display_data"
    }
   ],
   "source": [
    "nparams(result_HEMORRHAGE$bn_fitted) # Number of parameters in the network"
   ]
  },
  {
   "cell_type": "code",
   "execution_count": 118,
   "metadata": {
    "vscode": {
     "languageId": "r"
    }
   },
   "outputs": [
    {
     "data": {
      "text/html": [
       "TRUE"
      ],
      "text/latex": [
       "TRUE"
      ],
      "text/markdown": [
       "TRUE"
      ],
      "text/plain": [
       "[1] TRUE"
      ]
     },
     "metadata": {},
     "output_type": "display_data"
    }
   ],
   "source": [
    "# We also can use the following function to check the d-separation\n",
    "dsep(result_CVdeath$BNet, \"CVdeath\", \"SOC_ACT_EMP\", \"MH_AGE\")"
   ]
  },
  {
   "cell_type": "code",
   "execution_count": 140,
   "metadata": {
    "vscode": {
     "languageId": "r"
    }
   },
   "outputs": [
    {
     "name": "stdout",
     "output_type": "stream",
     "text": [
      "$CVdeath\n",
      "CVdeath\n",
      "         0          1 \n",
      "0.96580911 0.03419089 \n",
      "\n",
      "$CVdeath\n",
      "CVdeath\n",
      "         0          1 \n",
      "0.96042725 0.03957275 \n",
      "\n",
      "$CVdeath\n",
      "CVdeath\n",
      "         0          1 \n",
      "0.94757567 0.05242433 \n",
      "\n"
     ]
    }
   ],
   "source": [
    "query27 <- querygrain(result_CVdeath$junction, nodes = c(\"CVdeath\"), evidence = list(MH_AGE = \"1\"))\n",
    "print(query27)\n",
    "query28 <- querygrain(result_CVdeath$junction, nodes = c(\"CVdeath\"), evidence = list(MH_AGE = \"2\"))\n",
    "print(query28)\n",
    "query29 <- querygrain(result_CVdeath$junction, nodes = c(\"CVdeath\"), evidence = list(MH_AGE = \"3\"))\n",
    "print(query29)"
   ]
  },
  {
   "cell_type": "code",
   "execution_count": 143,
   "metadata": {
    "vscode": {
     "languageId": "r"
    }
   },
   "outputs": [
    {
     "name": "stdout",
     "output_type": "stream",
     "text": [
      "$CVdeath\n",
      "CVdeath\n",
      "         0          1 \n",
      "0.95706344 0.04293656 \n",
      "\n"
     ]
    },
    {
     "name": "stdout",
     "output_type": "stream",
     "text": [
      "$CVdeath\n",
      "CVdeath\n",
      "         0          1 \n",
      "0.95982455 0.04017545 \n",
      "\n",
      "$CVdeath\n",
      "CVdeath\n",
      "         0          1 \n",
      "0.95837304 0.04162696 \n",
      "\n",
      "$CVdeath\n",
      "CVdeath\n",
      "         0          1 \n",
      "0.95650509 0.04349491 \n",
      "\n"
     ]
    }
   ],
   "source": [
    "query30 <- querygrain(result_CVdeath$junction, nodes = c(\"CVdeath\"), evidence = list(MH_BMI = \"1\"))\n",
    "print(query30)\n",
    "query31 <- querygrain(result_CVdeath$junction, nodes = c(\"CVdeath\"), evidence = list(MH_BMI = \"2\"))\n",
    "print(query31)\n",
    "query32 <- querygrain(result_CVdeath$junction, nodes = c(\"CVdeath\"), evidence = list(MH_BMI = \"3\"))\n",
    "print(query32)\n",
    "query33 <- querygrain(result_CVdeath$junction, nodes = c(\"CVdeath\"), evidence = list(MH_BMI = \"4\"))\n",
    "print(query33)"
   ]
  },
  {
   "cell_type": "code",
   "execution_count": 149,
   "metadata": {
    "vscode": {
     "languageId": "r"
    }
   },
   "outputs": [
    {
     "name": "stdout",
     "output_type": "stream",
     "text": [
      "$CVdeath\n",
      "CVdeath\n",
      "         0          1 \n",
      "0.96789384 0.03210616 \n",
      "\n"
     ]
    },
    {
     "name": "stdout",
     "output_type": "stream",
     "text": [
      "$CVdeath\n",
      "CVdeath\n",
      "         0          1 \n",
      "0.95316449 0.04683551 \n",
      "\n"
     ]
    }
   ],
   "source": [
    "query34 <- querygrain(result_CVdeath$junction, nodes = c(\"CVdeath\"), evidence = list(MH_HTN = \"0\"))\n",
    "print(query34)\n",
    "query35 <- querygrain(result_CVdeath$junction, nodes = c(\"CVdeath\"), evidence = list(MH_HTN = \"1\"))\n",
    "print(query35)"
   ]
  },
  {
   "cell_type": "code",
   "execution_count": 151,
   "metadata": {
    "vscode": {
     "languageId": "r"
    }
   },
   "outputs": [
    {
     "name": "stdout",
     "output_type": "stream",
     "text": [
      "$CVdeath\n",
      "CVdeath\n",
      "         0          1 \n",
      "0.95980849 0.04019151 \n",
      "\n"
     ]
    },
    {
     "name": "stdout",
     "output_type": "stream",
     "text": [
      "$CVdeath\n",
      "CVdeath\n",
      "         0          1 \n",
      "0.95707041 0.04292959 \n",
      "\n"
     ]
    }
   ],
   "source": [
    "query36 <- querygrain(result_CVdeath$junction, nodes = c(\"CVdeath\"), evidence = list(MH_DLP = \"0\"))\n",
    "print(query36)\n",
    "query37 <- querygrain(result_CVdeath$junction, nodes = c(\"CVdeath\"), evidence = list(MH_DLP = \"1\"))\n",
    "print(query37)"
   ]
  },
  {
   "cell_type": "code",
   "execution_count": 152,
   "metadata": {
    "vscode": {
     "languageId": "r"
    }
   },
   "outputs": [
    {
     "name": "stdout",
     "output_type": "stream",
     "text": [
      "$CVdeath\n",
      "CVdeath\n",
      "         0          1 \n",
      "0.95936845 0.04063155 \n",
      "\n",
      "$CVdeath\n",
      "CVdeath\n",
      "         0          1 \n",
      "0.95571284 0.04428716 \n",
      "\n"
     ]
    }
   ],
   "source": [
    "query38 <- querygrain(result_CVdeath$junction, nodes = c(\"CVdeath\"), evidence = list(MH_HGB = \"1\"))\n",
    "print(query38)\n",
    "query39 <- querygrain(result_CVdeath$junction, nodes = c(\"CVdeath\"), evidence = list(MH_HGB = \"2\"))\n",
    "print(query39)"
   ]
  },
  {
   "cell_type": "code",
   "execution_count": 154,
   "metadata": {
    "vscode": {
     "languageId": "r"
    }
   },
   "outputs": [
    {
     "name": "stdout",
     "output_type": "stream",
     "text": [
      "$CVdeath\n",
      "CVdeath\n",
      "         0          1 \n",
      "0.95724443 0.04275557 \n",
      "\n"
     ]
    },
    {
     "name": "stdout",
     "output_type": "stream",
     "text": [
      "$CVdeath\n",
      "CVdeath\n",
      "         0          1 \n",
      "0.95943191 0.04056809 \n",
      "\n"
     ]
    }
   ],
   "source": [
    "query40 <- querygrain(result_CVdeath$junction, nodes = c(\"CVdeath\"), evidence = list(MH_FHxIHD = \"0\"))\n",
    "print(query40)\n",
    "query41 <- querygrain(result_CVdeath$junction, nodes = c(\"CVdeath\"), evidence = list(MH_FHxIHD = \"1\"))\n",
    "print(query41)"
   ]
  },
  {
   "cell_type": "code",
   "execution_count": 155,
   "metadata": {
    "vscode": {
     "languageId": "r"
    }
   },
   "outputs": [
    {
     "name": "stdout",
     "output_type": "stream",
     "text": [
      "$CVdeath\n",
      "CVdeath\n",
      "         0          1 \n",
      "0.95793194 0.04206806 \n",
      "\n",
      "$CVdeath\n",
      "CVdeath\n",
      "         0          1 \n",
      "0.95854465 0.04145535 \n",
      "\n"
     ]
    }
   ],
   "source": [
    "query42 <- querygrain(result_CVdeath$junction, nodes = c(\"CVdeath\"), evidence = list(SOC_MAR_ST = \"1\"))\n",
    "print(query42)\n",
    "query43 <- querygrain(result_CVdeath$junction, nodes = c(\"CVdeath\"), evidence = list(SOC_MAR_ST = \"2\"))\n",
    "print(query43)"
   ]
  },
  {
   "cell_type": "code",
   "execution_count": 156,
   "metadata": {
    "vscode": {
     "languageId": "r"
    }
   },
   "outputs": [
    {
     "name": "stdout",
     "output_type": "stream",
     "text": [
      "$CVdeath\n",
      "CVdeath\n",
      "         0          1 \n",
      "0.95804158 0.04195842 \n",
      "\n",
      "$CVdeath\n",
      "CVdeath\n",
      "         0          1 \n",
      "0.95851474 0.04148526 \n",
      "\n"
     ]
    }
   ],
   "source": [
    "query44 <- querygrain(result_CVdeath$junction, nodes = c(\"CVdeath\"), evidence = list(SOC_LIV_ALN = \"1\"))\n",
    "print(query44)\n",
    "query45 <- querygrain(result_CVdeath$junction, nodes = c(\"CVdeath\"), evidence = list(SOC_LIV_ALN = \"2\"))\n",
    "print(query45)"
   ]
  },
  {
   "cell_type": "code",
   "execution_count": 158,
   "metadata": {
    "vscode": {
     "languageId": "r"
    }
   },
   "outputs": [
    {
     "name": "stdout",
     "output_type": "stream",
     "text": [
      "$CVdeath\n",
      "CVdeath\n",
      "         0          1 \n",
      "0.95844948 0.04155052 \n",
      "\n",
      "$CVdeath\n",
      "CVdeath\n",
      "         0          1 \n",
      "0.95809926 0.04190074 \n",
      "\n"
     ]
    }
   ],
   "source": [
    "query46 <- querygrain(result_CVdeath$junction, nodes = c(\"CVdeath\"), evidence = list(SOC_SUPP = \"0\"))\n",
    "print(query46)\n",
    "query47 <- querygrain(result_CVdeath$junction, nodes = c(\"CVdeath\"), evidence = list(SOC_SUPP = \"1\"))\n",
    "print(query47)"
   ]
  },
  {
   "cell_type": "code",
   "execution_count": 159,
   "metadata": {
    "vscode": {
     "languageId": "r"
    }
   },
   "outputs": [
    {
     "name": "stdout",
     "output_type": "stream",
     "text": [
      "$CVdeath\n",
      "CVdeath\n",
      "         0          1 \n",
      "0.95807687 0.04192313 \n",
      "\n",
      "$CVdeath\n",
      "CVdeath\n",
      "         0          1 \n",
      "0.95814916 0.04185084 \n",
      "\n"
     ]
    }
   ],
   "source": [
    "query48 <- querygrain(result_CVdeath$junction, nodes = c(\"CVdeath\"), evidence = list(SOC_RES = \"1\"))\n",
    "print(query48)\n",
    "query49 <- querygrain(result_CVdeath$junction, nodes = c(\"CVdeath\"), evidence = list(SOC_RES = \"2\"))\n",
    "print(query49)"
   ]
  },
  {
   "cell_type": "code",
   "execution_count": 160,
   "metadata": {
    "vscode": {
     "languageId": "r"
    }
   },
   "outputs": [
    {
     "name": "stdout",
     "output_type": "stream",
     "text": [
      "$CVdeath\n",
      "CVdeath\n",
      "         0          1 \n",
      "0.95223971 0.04776029 \n",
      "\n",
      "$CVdeath\n",
      "CVdeath\n",
      "         0          1 \n",
      "0.95852299 0.04147701 \n",
      "\n"
     ]
    }
   ],
   "source": [
    "query50 <- querygrain(result_CVdeath$junction, nodes = c(\"CVdeath\"), evidence = list(SOC_EDU = \"0\"))\n",
    "print(query50)\n",
    "query51 <- querygrain(result_CVdeath$junction, nodes = c(\"CVdeath\"), evidence = list(SOC_EDU = \"1\"))\n",
    "print(query51)"
   ]
  },
  {
   "cell_type": "code",
   "execution_count": 161,
   "metadata": {
    "vscode": {
     "languageId": "r"
    }
   },
   "outputs": [
    {
     "name": "stdout",
     "output_type": "stream",
     "text": [
      "$CVdeath\n",
      "CVdeath\n",
      "         0          1 \n",
      "0.95570063 0.04429937 \n",
      "\n",
      "$CVdeath\n",
      "CVdeath\n",
      "         0          1 \n",
      "0.96455542 0.03544458 \n",
      "\n"
     ]
    }
   ],
   "source": [
    "query52 <- querygrain(result_CVdeath$junction, nodes = c(\"CVdeath\"), evidence = list(SOC_ACT_EMP = \"1\"))\n",
    "print(query52)\n",
    "query53 <- querygrain(result_CVdeath$junction, nodes = c(\"CVdeath\"), evidence = list(SOC_ACT_EMP = \"2\"))\n",
    "print(query53)"
   ]
  },
  {
   "cell_type": "code",
   "execution_count": 162,
   "metadata": {
    "vscode": {
     "languageId": "r"
    }
   },
   "outputs": [
    {
     "name": "stdout",
     "output_type": "stream",
     "text": [
      "$CVdeath\n",
      "CVdeath\n",
      "         0          1 \n",
      "0.95847838 0.04152162 \n",
      "\n",
      "$CVdeath\n",
      "CVdeath\n",
      "         0          1 \n",
      "0.95794309 0.04205691 \n",
      "\n"
     ]
    }
   ],
   "source": [
    "query54 <- querygrain(result_CVdeath$junction, nodes = c(\"CVdeath\"), evidence = list(SOC_WOR_TYPE = \"1\"))\n",
    "print(query54)\n",
    "query55 <- querygrain(result_CVdeath$junction, nodes = c(\"CVdeath\"), evidence = list(SOC_WOR_TYPE = \"2\"))\n",
    "print(query55)"
   ]
  },
  {
   "cell_type": "code",
   "execution_count": 163,
   "metadata": {
    "vscode": {
     "languageId": "r"
    }
   },
   "outputs": [
    {
     "name": "stdout",
     "output_type": "stream",
     "text": [
      "$CVdeath\n",
      "CVdeath\n",
      "         0          1 \n",
      "0.95897025 0.04102975 \n",
      "\n",
      "$CVdeath\n",
      "CVdeath\n",
      "         0          1 \n",
      "0.95765445 0.04234555 \n",
      "\n"
     ]
    }
   ],
   "source": [
    "query56 <- querygrain(result_CVdeath$junction, nodes = c(\"CVdeath\"), evidence = list(SOC_EX = \"0\"))\n",
    "print(query56)\n",
    "query57 <- querygrain(result_CVdeath$junction, nodes = c(\"CVdeath\"), evidence = list(SOC_EX = \"1\"))\n",
    "print(query57)"
   ]
  },
  {
   "cell_type": "code",
   "execution_count": 167,
   "metadata": {
    "vscode": {
     "languageId": "r"
    }
   },
   "outputs": [
    {
     "name": "stdout",
     "output_type": "stream",
     "text": [
      "$CVdeath\n",
      "CVdeath\n",
      "         0          1 \n",
      "0.95633887 0.04366113 \n",
      "\n"
     ]
    },
    {
     "name": "stdout",
     "output_type": "stream",
     "text": [
      "$CVdeath\n",
      "CVdeath\n",
      "         0          1 \n",
      "0.96272859 0.03727141 \n",
      "\n"
     ]
    }
   ],
   "source": [
    "query58 <- querygrain(result_CVdeath$junction, nodes = c(\"CVdeath\"), evidence = list(SOC_SOC_MED = \"0\"))\n",
    "print(query58)\n",
    "query59 <- querygrain(result_CVdeath$junction, nodes = c(\"CVdeath\"), evidence = list(SOC_SOC_MED = \"1\"))\n",
    "print(query59)"
   ]
  },
  {
   "cell_type": "code",
   "execution_count": 168,
   "metadata": {
    "vscode": {
     "languageId": "r"
    }
   },
   "outputs": [
    {
     "name": "stdout",
     "output_type": "stream",
     "text": [
      "$CVdeath\n",
      "CVdeath\n",
      "         0          1 \n",
      "0.95218742 0.04781258 \n",
      "\n",
      "$CVdeath\n",
      "CVdeath\n",
      "         0          1 \n",
      "0.95883512 0.04116488 \n",
      "\n"
     ]
    }
   ],
   "source": [
    "query60 <- querygrain(result_CVdeath$junction, nodes = c(\"CVdeath\"), evidence = list(SOC_MOB_PH = \"0\"))\n",
    "print(query60)\n",
    "query61 <- querygrain(result_CVdeath$junction, nodes = c(\"CVdeath\"), evidence = list(SOC_MOB_PH = \"1\"))\n",
    "print(query61)"
   ]
  },
  {
   "cell_type": "code",
   "execution_count": 169,
   "metadata": {
    "vscode": {
     "languageId": "r"
    }
   },
   "outputs": [
    {
     "name": "stdout",
     "output_type": "stream",
     "text": [
      "$CVdeath\n",
      "CVdeath\n",
      "         0          1 \n",
      "0.95810803 0.04189197 \n",
      "\n",
      "$CVdeath\n",
      "CVdeath\n",
      "         0          1 \n",
      "0.95810803 0.04189197 \n",
      "\n"
     ]
    }
   ],
   "source": [
    "query62 <- querygrain(result_CVdeath$junction, nodes = c(\"CVdeath\"), evidence = list(SOC_A_TRT = \"0\"))\n",
    "print(query62)\n",
    "query63 <- querygrain(result_CVdeath$junction, nodes = c(\"CVdeath\"), evidence = list(SOC_A_TRT = \"1\"))\n",
    "print(query63)"
   ]
  }
 ],
 "metadata": {
  "kernelspec": {
   "display_name": "R 4.4.0",
   "language": "R",
   "name": "ir44"
  },
  "language_info": {
   "codemirror_mode": "r",
   "file_extension": ".r",
   "mimetype": "text/x-r-source",
   "name": "R",
   "pygments_lexer": "r",
   "version": "4.4.0"
  }
 },
 "nbformat": 4,
 "nbformat_minor": 2
}
