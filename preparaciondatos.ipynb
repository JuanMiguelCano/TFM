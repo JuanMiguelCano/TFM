{
 "cells": [
  {
   "cell_type": "code",
   "execution_count": 1,
   "metadata": {
    "metadata": {}
   },
   "outputs": [
    {
     "name": "stdout",
     "output_type": "stream",
     "text": [
      "Número de variables: 290\n",
      "Número de registros: 2478\n"
     ]
    }
   ],
   "source": [
    "import pandas as pd\n",
    "import numpy as np\n",
    "\n",
    "# Se cargan los datos originales y se muestra el número de variables y registros\n",
    "df = pd.read_excel('data_original.xlsx', engine='openpyxl')\n",
    "print('Número de variables:', len(df.columns))\n",
    "print('Número de registros:', len(df))"
   ]
  },
  {
   "cell_type": "code",
   "execution_count": 2,
   "metadata": {
    "metadata": {}
   },
   "outputs": [],
   "source": [
    "# Función que cuenta el número de variables y registros de un DataFrame\n",
    "\n",
    "# ENTRADA:\n",
    "# df: DataFrame con los datos\n",
    "# SALIDA:\n",
    "# n_variables: número de variables del DataFrame\n",
    "# n_registros: número de registros del DataFrame\n",
    "\n",
    "def contar_variables_registros(df):\n",
    "    n_variables = len(df.columns)\n",
    "    n_registros = len(df)\n",
    "    print('Número de variables:', n_variables)\n",
    "    print('Número de registros:', n_registros)\n",
    "\n",
    "# Función que elimina las columnas que superan un porcentaje máximo de valores nulos dado\n",
    "\n",
    "# ENTRADA:\n",
    "# df: DataFrame con los datos\n",
    "# porcentaje: porcentaje máximo de valores nulos que puede tener una columna\n",
    "# SALIDA:\n",
    "# df: DataFrame con las columnas que no superan el porcentaje de valores nulos\n",
    "\n",
    "def quitar_columnas_nulos(df, porcentaje):\n",
    "    # Se calcula el número máximo de valores nulos que puede tener una columna\n",
    "    max_nulos = len(df)*porcentaje\n",
    "    # Se eliminan las columnas que superan el número máximo de valores nulos\n",
    "    df = df.dropna(axis=1, thresh=max_nulos)\n",
    "    return df\n",
    "\n",
    "# Función que elimina las filas que contienen valores nulos en el DataFrame. También devuelve el número de registros que se han eliminado\n",
    "\n",
    "# ENTRADA:\n",
    "# df: DataFrame con los datos\n",
    "# SALIDA:\n",
    "# df: DataFrame sin las filas que contienen valores nulos\n",
    "# n_filas: número de filas que se han quitado\n",
    "\n",
    "def quitar_filas_nulos(df):\n",
    "    # Se calcula el número de filas que se van a retirar\n",
    "    n_filas = (df.isnull().sum(axis=1)>0).sum()\n",
    "    # Se eliminan las filas que contienen valores nulos\n",
    "    df = df.dropna()\n",
    "    return df, n_filas"
   ]
  },
  {
   "cell_type": "markdown",
   "metadata": {},
   "source": [
    "**ANÁLISIS VARIABLES ANTECEDENTES**"
   ]
  },
  {
   "cell_type": "code",
   "execution_count": 3,
   "metadata": {
    "metadata": {}
   },
   "outputs": [
    {
     "name": "stdout",
     "output_type": "stream",
     "text": [
      "A_Grace supera el porcentaje máximo de valores nulos\n",
      "A_PreciseDAPT supera el porcentaje máximo de valores nulos\n",
      "Número de registros no utilizados (con valores faltantes): 781\n",
      "Número de variables: 25\n",
      "Número de registros: 1697\n"
     ]
    }
   ],
   "source": [
    "# Se define un DataFrame con las columnas de antecedentes y se anteponen una A a las columnas para clasificarlas\n",
    "df_ant = df[['Edad', 'Sexo', 'Peso', 'Talla', 'HFdeC.isquemica', 'Fumador', 'Diabetes', 'TratamientoDM', 'Hipertension', 'Dislipemia', 'IRC', 'Filtrado Glomerular', 'HBpreKT', 'InfartoAntiguo', 'LocIAMprevio', 'QXcoronariapre', 'AnoQXcoronariapre', 'PuentesQxpre.Tx', 'ACTPprevia', 'AnoACTPprevia', 'TCI.stentpre', 'DA.stentpre', 'Cx.stentpre', 'MOB.stentpre', 'CD.stentpre', 'PL.stentpre', 'IVP.stentpre', 'EnfArtPerif.pre', 'ACVpre', 'CHA2DS2VASC', 'CHADS2', 'Grace', 'PreciseDAPT']].rename(columns={'Edad': 'A_Edad', 'Sexo': 'A_Sexo', 'Peso': 'A_Peso', 'Talla': 'A_Talla', 'HFdeC.isquemica': 'A_HFdeC.isquemica', 'Fumador': 'A_Fumador', 'Diabetes': 'A_Diabetes', 'TratamientoDM': 'A_TratamientoDM', 'Hipertension': 'A_Hipertension', 'Dislipemia': 'A_Dislipemia', 'IRC': 'A_IRC', 'Filtrado Glomerular': 'A_Filtrado Glomerular', 'HBpreKT': 'A_HBpreKT', 'InfartoAntiguo': 'A_InfartoAntiguo', 'LocIAMprevio': 'A_LocIAMprevio', 'QXcoronariapre': 'A_QXcoronariapre', 'AnoQXcoronariapre': 'A_AnoQXcoronariapre', 'PuentesQxpre.Tx': 'A_PuentesQxpre.Tx', 'ACTPprevia': 'A_ACTPprevia', 'AnoACTPprevia': 'A_AnoACTPprevia', 'TCI.stentpre': 'A_TCI.stentpre', 'DA.stentpre': 'A_DA.stentpre', 'Cx.stentpre': 'A_Cx.stentpre', 'MOB.stentpre': 'A_MOB.stentpre', 'CD.stentpre': 'A_CD.stentpre', 'PL.stentpre': 'A_PL.stentpre', 'IVP.stentpre': 'A_IVP.stentpre', 'EnfArtPerif.pre': 'A_EnfArtPerif.pre', 'ACVpre': 'A_ACVpre', 'CHA2DS2VASC': 'A_CHA2DS2VASC', 'CHADS2': 'A_CHADS2', 'Grace': 'A_Grace', 'PreciseDAPT': 'A_PreciseDAPT'})\n",
    "\n",
    "# También se añaden del DataFrame original los predictandos \"Muerte CV\" y \"Revasc\"\n",
    "df_ant.loc[:, 'MuerteCV'] = df['Muerte CV']\n",
    "df_ant.loc[:, 'Revasc'] = df['Revasc']\n",
    "\n",
    "# Se eliminan las columnas que superan el 25% de valores nulos\n",
    "df_ant = quitar_columnas_nulos(df_ant, 0.25)\n",
    "\n",
    "# Se discretiza la columna A_Edad usando los terciles\n",
    "terciles = df_ant['A_Edad'].quantile([0.33, 0.66])\n",
    "df_ant.loc[:, 'A_Edad'] = pd.cut(df_ant['A_Edad'], \n",
    "                                 bins=[df_ant['A_Edad'].min()-1, terciles[0.33], terciles[0.66], df_ant['A_Edad'].max()], \n",
    "                                 labels=[0, 1, 2])\n",
    "\n",
    "# Se completan los valores faltantes de Peso con los valores de Peso.PSS del DataFrame original\n",
    "df_ant.loc[:, 'A_Peso'] = df_ant['A_Peso'].fillna(df['Peso.PSS'])\n",
    "\n",
    "# Se completan los valores faltantes de Talla (altura) con los valores de Talla.PSS del DataFrame original\n",
    "df_ant.loc[:, 'A_Talla'] = df_ant['A_Talla'].fillna(df['Talla.PSS'])\n",
    "\n",
    "# Se categorizan las variables Peso y Talla (altura), para ello se usa el IMC\n",
    "df_ant.loc[:, 'A_Peso'] = df_ant['A_Peso'] / (df_ant['A_Talla']/100)**2\n",
    "bins = [0, 18.5, 25, 30, np.inf]\n",
    "labels = [1, 2, 3, 4]\n",
    "df_ant.rename(columns={'A_Peso': 'A_IMC'}, inplace=True)\n",
    "df_ant.loc[:, 'A_IMC'] = pd.cut(df_ant['A_IMC'], bins=bins, labels=labels)\n",
    "df_ant.drop('A_Talla', axis=1, inplace=True) # se elimina la columna Talla\n",
    "\n",
    "# Se completan los valores faltantes de HFdeC.isquemica con -1\n",
    "df_ant.loc[:, 'A_TratamientoDM'] = df_ant['A_TratamientoDM'].fillna(-1)\n",
    "\n",
    "# Se discretiza la columna A_HBpreKT usando los terciles\n",
    "terciles = df_ant['A_HBpreKT'].quantile([0.33, 0.66])\n",
    "df_ant.loc[:, 'A_HBpreKT'] = pd.cut(df_ant['A_HBpreKT'], \n",
    "                                 bins=[df_ant['A_HBpreKT'].min()-1, terciles[0.33], terciles[0.66], df_ant['A_HBpreKT'].max()], \n",
    "                                 labels=[0, 1, 2])\n",
    "\n",
    "df_ant.drop('A_AnoACTPprevia', axis=1, inplace=True) # Fecha\n",
    "\n",
    "# Discretización de la variable A_Grace usando los terciles\n",
    "try:\n",
    "    terciles = df_ant['A_Grace'].quantile([0.33, 0.66])\n",
    "    df_ant.loc[:, 'A_Grace'] = pd.cut(df_ant['A_Grace'], \n",
    "                                 bins=[df_ant['A_Grace'].min()-1, terciles[0.33], terciles[0.66], df_ant['A_Grace'].max()], \n",
    "                                 labels=[0, 1, 2])\n",
    "except KeyError:\n",
    "    print(\"A_Grace supera el porcentaje máximo de valores nulos\")\n",
    "\n",
    "# Discretización de la variable A_PreciseDAPT usando los terciles\n",
    "try:\n",
    "    terciles = df_ant['A_PreciseDAPT'].quantile([0.33, 0.66])\n",
    "    df_ant.loc[:, 'A_PreciseDAPT'] = pd.cut(df_ant['A_PreciseDAPT'], \n",
    "                                 bins=[df_ant['A_PreciseDAPT'].min()-1, terciles[0.33], terciles[0.66], df_ant['A_PreciseDAPT'].max()], \n",
    "                                 labels=[0, 1, 2])\n",
    "except KeyError:\n",
    "    print(\"A_PreciseDAPT supera el porcentaje máximo de valores nulos\")\n",
    "\n",
    "# Se guarda en un df auxiliar las columnas incluyendo valores nulos\n",
    "df_ant_na = df_ant.copy()\n",
    "\n",
    "# Se eliminan las filas que contienen valores nulos\n",
    "df_ant, n_filas = quitar_filas_nulos(df_ant)\n",
    "print(\"Número de registros no utilizados (con valores faltantes):\", n_filas)\n",
    "\n",
    "df_ant.to_excel('antecedentes.xlsx', index=False, engine='openpyxl')\n",
    "\n",
    "contar_variables_registros(df_ant)"
   ]
  },
  {
   "cell_type": "markdown",
   "metadata": {},
   "source": [
    "**ANÁLISIS VARIABLES PROCEDIMIENTO**"
   ]
  },
  {
   "cell_type": "code",
   "execution_count": 4,
   "metadata": {
    "metadata": {}
   },
   "outputs": [
    {
     "name": "stdout",
     "output_type": "stream",
     "text": [
      "Número de registros no utilizados (con valores faltantes): 723\n",
      "Número de variables: 19\n",
      "Número de registros: 1755\n"
     ]
    }
   ],
   "source": [
    "# Se define un DataFrame con las columnas de los procedimientos y se anteponen una P a las columnas para clasificarlas\n",
    "df_proc = df[['Unnamed: 34', 'FE', 'Indicacion', 'Acceso', 'TCI.Actual', 'DA.Actual', 'CX.Actual', 'CD.Actual', 'Mamaria.Actual', 'Safena.Actual', 'TratDecidido', 'FechaQx.Actual', 'Puentes.Actual', 'ACVQX.Actual', 'InfartoQX.Actual', 'MuerteQX.Actual', 'MuerteQXtexto', 'TCI.tratada', 'DA.tratada', 'Cx.tratada', 'CD.tratada', 'Mamaria.tratada', 'Safena.tratada', 'Lesiones Tratadas', 'SINTAX1', 'SINTAX2']].rename(columns={'Unnamed: 34': 'P_Unnamed', 'FE': 'P_FE', 'Indicacion': 'P_Indicacion', 'Acceso': 'P_Acceso', 'TCI.Actual': 'P_TCI.Actual', 'DA.Actual': 'P_DA.Actual', 'CX.Actual': 'P_CX.Actual', 'CD.Actual': 'P_CD.Actual', 'Mamaria.Actual': 'P_Mamaria.Actual', 'Safena.Actual': 'P_Safena.Actual', 'TratDecidido': 'P_TratDecidido', 'FechaQx.Actual': 'P_FechaQx.Actual', 'Puentes.Actual': 'P_Puentes.Actual', 'ACVQX.Actual': 'P_ACVQX.Actual', 'InfartoQX.Actual': 'P_InfartoQX.Actual', 'MuerteQX.Actual': 'P_MuerteQX.Actual', 'MuerteQXtexto': 'P_MuerteQXtexto', 'TCI.tratada': 'P_TCI.tratada', 'DA.tratada': 'P_DA.tratada', 'Cx.tratada': 'P_Cx.tratada', 'CD.tratada': 'P_CD.tratada', 'Mamaria.tratada': 'P_Mamaria.tratada', 'Safena.tratada': 'P_Safena.tratada', 'Lesiones Tratadas': 'P_Lesiones_Tratadas', 'SINTAX1': 'P_SINTAX1', 'SINTAX2': 'P_SINTAX2'})\n",
    "\n",
    "# También se añaden del DataFrame original los predictandos \"Muerte CV\" y \"Revasc\"\n",
    "df_proc.loc[:, 'MuerteCV'] = df['Muerte CV']\n",
    "df_proc.loc[:, 'Revasc'] = df['Revasc']\n",
    "\n",
    "# Se eliminan las columnas que superan el 25% de valores nulos\n",
    "df_proc = quitar_columnas_nulos(df_proc, 0.25)\n",
    "df_proc.drop('P_Unnamed', axis=1, inplace=True) # Fecha\n",
    "\n",
    "# Se discretiza la columna P_FE usando los terciles\n",
    "terciles = df_proc['P_FE'].quantile([0.33, 0.66])\n",
    "df_proc.loc[:, 'P_FE'] = pd.cut(df_proc['P_FE'], \n",
    "                                 bins=[df_proc['P_FE'].min()-1, terciles[0.33], terciles[0.66], df_proc['P_FE'].max()], \n",
    "                                 labels=[0, 1, 2])\n",
    "\n",
    "# Se guarda en un df auxiliar las columnas incluyendo valores nulos\n",
    "df_proc_na = df_proc.copy()\n",
    "\n",
    "# Se eliminan las filas que contienen valores nulos\n",
    "df_proc, n_filas = quitar_filas_nulos(df_proc)\n",
    "print(\"Número de registros no utilizados (con valores faltantes):\", n_filas)\n",
    "\n",
    "contar_variables_registros(df_proc)\n",
    "\n",
    "df_proc.to_excel('procedimientos.xlsx', index=False, engine='openpyxl')"
   ]
  },
  {
   "cell_type": "markdown",
   "metadata": {},
   "source": [
    "**ANÁLISIS VARIABLES ANTECEDENTES + PROCEDIMIENTO**"
   ]
  },
  {
   "cell_type": "code",
   "execution_count": 5,
   "metadata": {
    "metadata": {}
   },
   "outputs": [
    {
     "name": "stdout",
     "output_type": "stream",
     "text": [
      "Número de registros no utilizados (con valores faltantes): 877\n",
      "Número de variables: 42\n",
      "Número de registros: 1601\n"
     ]
    }
   ],
   "source": [
    "# Se forma un DataFrame con las columnas de los antecedentes y los procedimientos\n",
    "df_ant_proc = pd.concat([df_ant_na.drop(['MuerteCV', 'Revasc'], axis=1), df_proc_na], axis=1)\n",
    "\n",
    "# Se eliminan las filas que contienen valores nulos\n",
    "df_ant_proc, n_filas = quitar_filas_nulos(df_ant_proc)\n",
    "print(\"Número de registros no utilizados (con valores faltantes):\", n_filas)\n",
    "\n",
    "contar_variables_registros(df_ant_proc)\n",
    "\n",
    "df_ant_proc.to_excel('antecedentes_procedimientos.xlsx', index=False, engine='openpyxl')"
   ]
  }
 ],
 "metadata": {
  "kernelspec": {
   "display_name": "python38",
   "language": "python",
   "name": "python3"
  },
  "language_info": {
   "codemirror_mode": {
    "name": "ipython",
    "version": 3
   },
   "file_extension": ".py",
   "mimetype": "text/x-python",
   "name": "python",
   "nbconvert_exporter": "python",
   "pygments_lexer": "ipython3",
   "version": "3.11.5"
  }
 },
 "nbformat": 4,
 "nbformat_minor": 2
}
